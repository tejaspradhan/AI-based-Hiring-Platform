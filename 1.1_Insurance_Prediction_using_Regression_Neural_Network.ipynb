{
  "nbformat": 4,
  "nbformat_minor": 0,
  "metadata": {
    "colab": {
      "name": "1.1-Insurance Prediction using Regression Neural Network.ipynb",
      "provenance": [],
      "authorship_tag": "ABX9TyM/Q2PwJBDSdq2tNJTjegEe",
      "include_colab_link": true
    },
    "kernelspec": {
      "name": "python3",
      "display_name": "Python 3"
    },
    "language_info": {
      "name": "python"
    }
  },
  "cells": [
    {
      "cell_type": "markdown",
      "metadata": {
        "id": "view-in-github",
        "colab_type": "text"
      },
      "source": [
        "<a href=\"https://colab.research.google.com/github/tejaspradhan/AI-based-Hiring-Platform/blob/main/1.1_Insurance_Prediction_using_Regression_Neural_Network.ipynb\" target=\"_parent\"><img src=\"https://colab.research.google.com/assets/colab-badge.svg\" alt=\"Open In Colab\"/></a>"
      ]
    },
    {
      "cell_type": "markdown",
      "metadata": {
        "id": "RGxz42ro3TDf"
      },
      "source": [
        "# Regression Neural Network for Insurance Prediction "
      ]
    },
    {
      "cell_type": "code",
      "metadata": {
        "id": "XOxlL5Ll3RXK"
      },
      "source": [
        "I"
      ],
      "execution_count": null,
      "outputs": []
    }
  ]
}