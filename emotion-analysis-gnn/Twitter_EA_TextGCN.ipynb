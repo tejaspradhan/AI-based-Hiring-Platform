{
  "nbformat": 4,
  "nbformat_minor": 0,
  "metadata": {
    "colab": {
      "name": "Twitter_EA_TextGCN.ipynb",
      "provenance": [],
      "collapsed_sections": [],
      "authorship_tag": "ABX9TyOviJ0L44DxUkuDgNt5FRts",
      "include_colab_link": true
    },
    "kernelspec": {
      "name": "python3",
      "display_name": "Python 3"
    },
    "language_info": {
      "name": "python"
    }
  },
  "cells": [
    {
      "cell_type": "markdown",
      "metadata": {
        "id": "view-in-github",
        "colab_type": "text"
      },
      "source": [
        "<a href=\"https://colab.research.google.com/github/tejaspradhan/AI-based-Hiring-Platform/blob/main/emotion-analysis-gnn/Twitter_EA_TextGCN.ipynb\" target=\"_parent\"><img src=\"https://colab.research.google.com/assets/colab-badge.svg\" alt=\"Open In Colab\"/></a>"
      ]
    },
    {
      "cell_type": "code",
      "source": [
        "! pip install -U tf_geometric"
      ],
      "metadata": {
        "colab": {
          "base_uri": "https://localhost:8080/"
        },
        "id": "PzJIxwh0wUL0",
        "outputId": "5c035f6b-c932-4217-81c9-98aa66f0bbe6"
      },
      "execution_count": 1,
      "outputs": [
        {
          "output_type": "stream",
          "name": "stdout",
          "text": [
            "Looking in indexes: https://pypi.org/simple, https://us-python.pkg.dev/colab-wheels/public/simple/\n",
            "Requirement already satisfied: tf_geometric in /usr/local/lib/python3.7/dist-packages (0.0.85)\n",
            "Requirement already satisfied: ogb-lite>=0.0.3 in /usr/local/lib/python3.7/dist-packages (from tf_geometric) (0.0.3)\n",
            "Requirement already satisfied: tqdm in /usr/local/lib/python3.7/dist-packages (from tf_geometric) (4.64.0)\n",
            "Requirement already satisfied: scipy>=1.1.0 in /usr/local/lib/python3.7/dist-packages (from tf_geometric) (1.4.1)\n",
            "Requirement already satisfied: networkx>=2.1 in /usr/local/lib/python3.7/dist-packages (from tf_geometric) (2.6.3)\n",
            "Requirement already satisfied: scikit-learn>=0.22 in /usr/local/lib/python3.7/dist-packages (from tf_geometric) (1.0.2)\n",
            "Requirement already satisfied: numpy>=1.17.4 in /usr/local/lib/python3.7/dist-packages (from tf_geometric) (1.21.6)\n",
            "Requirement already satisfied: tf-sparse>=0.0.12 in /usr/local/lib/python3.7/dist-packages (from tf_geometric) (0.0.12)\n",
            "Requirement already satisfied: pandas>=0.24.0 in /usr/local/lib/python3.7/dist-packages (from ogb-lite>=0.0.3->tf_geometric) (1.3.5)\n",
            "Requirement already satisfied: outdated>=0.2.0 in /usr/local/lib/python3.7/dist-packages (from ogb-lite>=0.0.3->tf_geometric) (0.2.1)\n",
            "Requirement already satisfied: urllib3>=1.24.0 in /usr/local/lib/python3.7/dist-packages (from ogb-lite>=0.0.3->tf_geometric) (1.24.3)\n",
            "Requirement already satisfied: six>=1.12.0 in /usr/local/lib/python3.7/dist-packages (from ogb-lite>=0.0.3->tf_geometric) (1.15.0)\n",
            "Requirement already satisfied: littleutils in /usr/local/lib/python3.7/dist-packages (from outdated>=0.2.0->ogb-lite>=0.0.3->tf_geometric) (0.2.2)\n",
            "Requirement already satisfied: requests in /usr/local/lib/python3.7/dist-packages (from outdated>=0.2.0->ogb-lite>=0.0.3->tf_geometric) (2.23.0)\n",
            "Requirement already satisfied: pytz>=2017.3 in /usr/local/lib/python3.7/dist-packages (from pandas>=0.24.0->ogb-lite>=0.0.3->tf_geometric) (2022.1)\n",
            "Requirement already satisfied: python-dateutil>=2.7.3 in /usr/local/lib/python3.7/dist-packages (from pandas>=0.24.0->ogb-lite>=0.0.3->tf_geometric) (2.8.2)\n",
            "Requirement already satisfied: threadpoolctl>=2.0.0 in /usr/local/lib/python3.7/dist-packages (from scikit-learn>=0.22->tf_geometric) (3.1.0)\n",
            "Requirement already satisfied: joblib>=0.11 in /usr/local/lib/python3.7/dist-packages (from scikit-learn>=0.22->tf_geometric) (1.1.0)\n",
            "Requirement already satisfied: chardet<4,>=3.0.2 in /usr/local/lib/python3.7/dist-packages (from requests->outdated>=0.2.0->ogb-lite>=0.0.3->tf_geometric) (3.0.4)\n",
            "Requirement already satisfied: certifi>=2017.4.17 in /usr/local/lib/python3.7/dist-packages (from requests->outdated>=0.2.0->ogb-lite>=0.0.3->tf_geometric) (2022.6.15)\n",
            "Requirement already satisfied: idna<3,>=2.5 in /usr/local/lib/python3.7/dist-packages (from requests->outdated>=0.2.0->ogb-lite>=0.0.3->tf_geometric) (2.10)\n"
          ]
        }
      ]
    },
    {
      "cell_type": "code",
      "execution_count": 2,
      "metadata": {
        "colab": {
          "base_uri": "https://localhost:8080/"
        },
        "id": "x-JFG2OuhHrz",
        "outputId": "a9f41174-18c9-41a3-bbcb-74250719989a"
      },
      "outputs": [
        {
          "output_type": "stream",
          "name": "stderr",
          "text": [
            "/usr/local/lib/python3.7/dist-packages/scipy/fft/__init__.py:97: DeprecationWarning: The module numpy.dual is deprecated.  Instead of using dual, use the functions directly from numpy or scipy.\n",
            "  from numpy.dual import register_func\n",
            "/usr/local/lib/python3.7/dist-packages/scipy/sparse/sputils.py:17: DeprecationWarning: `np.typeDict` is a deprecated alias for `np.sctypeDict`.\n",
            "  supported_dtypes = [np.typeDict[x] for x in supported_dtypes]\n",
            "/usr/local/lib/python3.7/dist-packages/scipy/sparse/sputils.py:17: DeprecationWarning: `np.typeDict` is a deprecated alias for `np.sctypeDict`.\n",
            "  supported_dtypes = [np.typeDict[x] for x in supported_dtypes]\n",
            "/usr/local/lib/python3.7/dist-packages/scipy/sparse/sputils.py:17: DeprecationWarning: `np.typeDict` is a deprecated alias for `np.sctypeDict`.\n",
            "  supported_dtypes = [np.typeDict[x] for x in supported_dtypes]\n",
            "/usr/local/lib/python3.7/dist-packages/scipy/sparse/sputils.py:17: DeprecationWarning: `np.typeDict` is a deprecated alias for `np.sctypeDict`.\n",
            "  supported_dtypes = [np.typeDict[x] for x in supported_dtypes]\n",
            "/usr/local/lib/python3.7/dist-packages/scipy/sparse/sputils.py:17: DeprecationWarning: `np.typeDict` is a deprecated alias for `np.sctypeDict`.\n",
            "  supported_dtypes = [np.typeDict[x] for x in supported_dtypes]\n",
            "/usr/local/lib/python3.7/dist-packages/scipy/sparse/sputils.py:17: DeprecationWarning: `np.typeDict` is a deprecated alias for `np.sctypeDict`.\n",
            "  supported_dtypes = [np.typeDict[x] for x in supported_dtypes]\n",
            "/usr/local/lib/python3.7/dist-packages/scipy/sparse/sputils.py:17: DeprecationWarning: `np.typeDict` is a deprecated alias for `np.sctypeDict`.\n",
            "  supported_dtypes = [np.typeDict[x] for x in supported_dtypes]\n",
            "/usr/local/lib/python3.7/dist-packages/scipy/sparse/sputils.py:17: DeprecationWarning: `np.typeDict` is a deprecated alias for `np.sctypeDict`.\n",
            "  supported_dtypes = [np.typeDict[x] for x in supported_dtypes]\n",
            "/usr/local/lib/python3.7/dist-packages/scipy/sparse/sputils.py:17: DeprecationWarning: `np.typeDict` is a deprecated alias for `np.sctypeDict`.\n",
            "  supported_dtypes = [np.typeDict[x] for x in supported_dtypes]\n",
            "/usr/local/lib/python3.7/dist-packages/scipy/sparse/sputils.py:17: DeprecationWarning: `np.typeDict` is a deprecated alias for `np.sctypeDict`.\n",
            "  supported_dtypes = [np.typeDict[x] for x in supported_dtypes]\n",
            "/usr/local/lib/python3.7/dist-packages/scipy/sparse/sputils.py:17: DeprecationWarning: `np.typeDict` is a deprecated alias for `np.sctypeDict`.\n",
            "  supported_dtypes = [np.typeDict[x] for x in supported_dtypes]\n",
            "/usr/local/lib/python3.7/dist-packages/scipy/sparse/sputils.py:17: DeprecationWarning: `np.typeDict` is a deprecated alias for `np.sctypeDict`.\n",
            "  supported_dtypes = [np.typeDict[x] for x in supported_dtypes]\n",
            "/usr/local/lib/python3.7/dist-packages/scipy/sparse/sputils.py:17: DeprecationWarning: `np.typeDict` is a deprecated alias for `np.sctypeDict`.\n",
            "  supported_dtypes = [np.typeDict[x] for x in supported_dtypes]\n",
            "/usr/local/lib/python3.7/dist-packages/scipy/sparse/sputils.py:17: DeprecationWarning: `np.typeDict` is a deprecated alias for `np.sctypeDict`.\n",
            "  supported_dtypes = [np.typeDict[x] for x in supported_dtypes]\n",
            "/usr/local/lib/python3.7/dist-packages/scipy/sparse/sputils.py:17: DeprecationWarning: `np.typeDict` is a deprecated alias for `np.sctypeDict`.\n",
            "  supported_dtypes = [np.typeDict[x] for x in supported_dtypes]\n",
            "/usr/local/lib/python3.7/dist-packages/scipy/special/orthogonal.py:81: DeprecationWarning: `np.int` is a deprecated alias for the builtin `int`. To silence this warning, use `int` by itself. Doing this will not modify any behavior and is safe. When replacing `np.int`, you may wish to use e.g. `np.int64` or `np.int32` to specify the precision. If you wish to review your current use, check the release note link for additional information.\n",
            "Deprecated in NumPy 1.20; for more details and guidance: https://numpy.org/devdocs/release/1.20.0-notes.html#deprecations\n",
            "  from numpy import (exp, inf, pi, sqrt, floor, sin, cos, around, int,\n",
            "/usr/local/lib/python3.7/dist-packages/scipy/special/orthogonal.py:81: DeprecationWarning: `np.int` is a deprecated alias for the builtin `int`. To silence this warning, use `int` by itself. Doing this will not modify any behavior and is safe. When replacing `np.int`, you may wish to use e.g. `np.int64` or `np.int32` to specify the precision. If you wish to review your current use, check the release note link for additional information.\n",
            "Deprecated in NumPy 1.20; for more details and guidance: https://numpy.org/devdocs/release/1.20.0-notes.html#deprecations\n",
            "  from numpy import (exp, inf, pi, sqrt, floor, sin, cos, around, int,\n",
            "/usr/local/lib/python3.7/dist-packages/scipy/io/matlab/mio5.py:98: DeprecationWarning: `np.bool` is a deprecated alias for the builtin `bool`. To silence this warning, use `bool` by itself. Doing this will not modify any behavior and is safe. If you specifically wanted the numpy scalar type, use `np.bool_` here.\n",
            "Deprecated in NumPy 1.20; for more details and guidance: https://numpy.org/devdocs/release/1.20.0-notes.html#deprecations\n",
            "  from .mio5_utils import VarReader5\n",
            "[nltk_data] Downloading package stopwords to /root/nltk_data...\n",
            "[nltk_data]   Package stopwords is already up-to-date!\n"
          ]
        }
      ],
      "source": [
        "import os\n",
        "from tf_geometric.utils import tf_utils\n",
        "\n",
        "os.environ[\"CUDA_VISIBLE_DEVICES\"] = \"1\"\n",
        "import numpy as np\n",
        "import pandas as pd\n",
        "from collections import Counter\n",
        "import matplotlib.pyplot as plt\n",
        "\n",
        "import nltk\n",
        "import string\n",
        "from nltk.corpus import stopwords\n",
        "from nltk.stem.wordnet import WordNetLemmatizer\n",
        "# # In case of any corpus are missing \n",
        "# download all-nltk\n",
        "nltk.download('stopwords')\n",
        "stop_words = stopwords.words(\"english\")\n",
        "\n",
        "from tqdm import tqdm\n",
        "\n",
        "from sklearn.model_selection import train_test_split\n",
        "from tensorflow.keras.preprocessing.text import Tokenizer\n",
        "from tensorflow import keras\n",
        "import tensorflow as tf\n",
        "import tf_geometric as tfg\n",
        "import pickle\n",
        "import re"
      ]
    },
    {
      "cell_type": "code",
      "source": [
        "train_data= pd.read_csv('/content/training.csv')"
      ],
      "metadata": {
        "id": "82bXaXJytbdH"
      },
      "execution_count": 3,
      "outputs": []
    },
    {
      "cell_type": "code",
      "source": [
        "test_data= pd.read_csv('/content/test.csv')"
      ],
      "metadata": {
        "id": "KeKM0XthtfvK"
      },
      "execution_count": 4,
      "outputs": []
    },
    {
      "cell_type": "code",
      "source": [
        "train_data.head()"
      ],
      "metadata": {
        "colab": {
          "base_uri": "https://localhost:8080/",
          "height": 206
        },
        "id": "pLeCGzqTtlF7",
        "outputId": "f6c05050-2a16-4466-ba8e-a95d379cbebc"
      },
      "execution_count": 5,
      "outputs": [
        {
          "output_type": "execute_result",
          "data": {
            "text/plain": [
              "                                                text  label\n",
              "0                            i didnt feel humiliated      0\n",
              "1  i can go from feeling so hopeless to so damned...      0\n",
              "2   im grabbing a minute to post i feel greedy wrong      3\n",
              "3  i am ever feeling nostalgic about the fireplac...      2\n",
              "4                               i am feeling grouchy      3"
            ],
            "text/html": [
              "\n",
              "  <div id=\"df-52e11da9-8a1b-4815-996f-c8ccdea86c4c\">\n",
              "    <div class=\"colab-df-container\">\n",
              "      <div>\n",
              "<style scoped>\n",
              "    .dataframe tbody tr th:only-of-type {\n",
              "        vertical-align: middle;\n",
              "    }\n",
              "\n",
              "    .dataframe tbody tr th {\n",
              "        vertical-align: top;\n",
              "    }\n",
              "\n",
              "    .dataframe thead th {\n",
              "        text-align: right;\n",
              "    }\n",
              "</style>\n",
              "<table border=\"1\" class=\"dataframe\">\n",
              "  <thead>\n",
              "    <tr style=\"text-align: right;\">\n",
              "      <th></th>\n",
              "      <th>text</th>\n",
              "      <th>label</th>\n",
              "    </tr>\n",
              "  </thead>\n",
              "  <tbody>\n",
              "    <tr>\n",
              "      <th>0</th>\n",
              "      <td>i didnt feel humiliated</td>\n",
              "      <td>0</td>\n",
              "    </tr>\n",
              "    <tr>\n",
              "      <th>1</th>\n",
              "      <td>i can go from feeling so hopeless to so damned...</td>\n",
              "      <td>0</td>\n",
              "    </tr>\n",
              "    <tr>\n",
              "      <th>2</th>\n",
              "      <td>im grabbing a minute to post i feel greedy wrong</td>\n",
              "      <td>3</td>\n",
              "    </tr>\n",
              "    <tr>\n",
              "      <th>3</th>\n",
              "      <td>i am ever feeling nostalgic about the fireplac...</td>\n",
              "      <td>2</td>\n",
              "    </tr>\n",
              "    <tr>\n",
              "      <th>4</th>\n",
              "      <td>i am feeling grouchy</td>\n",
              "      <td>3</td>\n",
              "    </tr>\n",
              "  </tbody>\n",
              "</table>\n",
              "</div>\n",
              "      <button class=\"colab-df-convert\" onclick=\"convertToInteractive('df-52e11da9-8a1b-4815-996f-c8ccdea86c4c')\"\n",
              "              title=\"Convert this dataframe to an interactive table.\"\n",
              "              style=\"display:none;\">\n",
              "        \n",
              "  <svg xmlns=\"http://www.w3.org/2000/svg\" height=\"24px\"viewBox=\"0 0 24 24\"\n",
              "       width=\"24px\">\n",
              "    <path d=\"M0 0h24v24H0V0z\" fill=\"none\"/>\n",
              "    <path d=\"M18.56 5.44l.94 2.06.94-2.06 2.06-.94-2.06-.94-.94-2.06-.94 2.06-2.06.94zm-11 1L8.5 8.5l.94-2.06 2.06-.94-2.06-.94L8.5 2.5l-.94 2.06-2.06.94zm10 10l.94 2.06.94-2.06 2.06-.94-2.06-.94-.94-2.06-.94 2.06-2.06.94z\"/><path d=\"M17.41 7.96l-1.37-1.37c-.4-.4-.92-.59-1.43-.59-.52 0-1.04.2-1.43.59L10.3 9.45l-7.72 7.72c-.78.78-.78 2.05 0 2.83L4 21.41c.39.39.9.59 1.41.59.51 0 1.02-.2 1.41-.59l7.78-7.78 2.81-2.81c.8-.78.8-2.07 0-2.86zM5.41 20L4 18.59l7.72-7.72 1.47 1.35L5.41 20z\"/>\n",
              "  </svg>\n",
              "      </button>\n",
              "      \n",
              "  <style>\n",
              "    .colab-df-container {\n",
              "      display:flex;\n",
              "      flex-wrap:wrap;\n",
              "      gap: 12px;\n",
              "    }\n",
              "\n",
              "    .colab-df-convert {\n",
              "      background-color: #E8F0FE;\n",
              "      border: none;\n",
              "      border-radius: 50%;\n",
              "      cursor: pointer;\n",
              "      display: none;\n",
              "      fill: #1967D2;\n",
              "      height: 32px;\n",
              "      padding: 0 0 0 0;\n",
              "      width: 32px;\n",
              "    }\n",
              "\n",
              "    .colab-df-convert:hover {\n",
              "      background-color: #E2EBFA;\n",
              "      box-shadow: 0px 1px 2px rgba(60, 64, 67, 0.3), 0px 1px 3px 1px rgba(60, 64, 67, 0.15);\n",
              "      fill: #174EA6;\n",
              "    }\n",
              "\n",
              "    [theme=dark] .colab-df-convert {\n",
              "      background-color: #3B4455;\n",
              "      fill: #D2E3FC;\n",
              "    }\n",
              "\n",
              "    [theme=dark] .colab-df-convert:hover {\n",
              "      background-color: #434B5C;\n",
              "      box-shadow: 0px 1px 3px 1px rgba(0, 0, 0, 0.15);\n",
              "      filter: drop-shadow(0px 1px 2px rgba(0, 0, 0, 0.3));\n",
              "      fill: #FFFFFF;\n",
              "    }\n",
              "  </style>\n",
              "\n",
              "      <script>\n",
              "        const buttonEl =\n",
              "          document.querySelector('#df-52e11da9-8a1b-4815-996f-c8ccdea86c4c button.colab-df-convert');\n",
              "        buttonEl.style.display =\n",
              "          google.colab.kernel.accessAllowed ? 'block' : 'none';\n",
              "\n",
              "        async function convertToInteractive(key) {\n",
              "          const element = document.querySelector('#df-52e11da9-8a1b-4815-996f-c8ccdea86c4c');\n",
              "          const dataTable =\n",
              "            await google.colab.kernel.invokeFunction('convertToInteractive',\n",
              "                                                     [key], {});\n",
              "          if (!dataTable) return;\n",
              "\n",
              "          const docLinkHtml = 'Like what you see? Visit the ' +\n",
              "            '<a target=\"_blank\" href=https://colab.research.google.com/notebooks/data_table.ipynb>data table notebook</a>'\n",
              "            + ' to learn more about interactive tables.';\n",
              "          element.innerHTML = '';\n",
              "          dataTable['output_type'] = 'display_data';\n",
              "          await google.colab.output.renderOutput(dataTable, element);\n",
              "          const docLink = document.createElement('div');\n",
              "          docLink.innerHTML = docLinkHtml;\n",
              "          element.appendChild(docLink);\n",
              "        }\n",
              "      </script>\n",
              "    </div>\n",
              "  </div>\n",
              "  "
            ]
          },
          "metadata": {},
          "execution_count": 5
        }
      ]
    },
    {
      "cell_type": "code",
      "source": [
        "labels_dict = {0:'sadness', 1:'joy', 2:'love', 3:'anger', 4:'fear', 5:'surprise'}"
      ],
      "metadata": {
        "id": "jxBFfsa_uHY3"
      },
      "execution_count": 6,
      "outputs": []
    },
    {
      "cell_type": "code",
      "source": [
        "train_data.groupby('label')['text'].count()"
      ],
      "metadata": {
        "colab": {
          "base_uri": "https://localhost:8080/"
        },
        "id": "wkQgPVLpuPk9",
        "outputId": "c3e05399-c455-48a3-818b-de3173b8ccf3"
      },
      "execution_count": 7,
      "outputs": [
        {
          "output_type": "execute_result",
          "data": {
            "text/plain": [
              "label\n",
              "0    4666\n",
              "1    5362\n",
              "2    1304\n",
              "3    2159\n",
              "4    1937\n",
              "5     572\n",
              "Name: text, dtype: int64"
            ]
          },
          "metadata": {},
          "execution_count": 7
        }
      ]
    },
    {
      "cell_type": "code",
      "source": [
        "train_data.isna().sum()"
      ],
      "metadata": {
        "colab": {
          "base_uri": "https://localhost:8080/"
        },
        "id": "qcZUB9_txAMK",
        "outputId": "1e3b0c90-8053-4df4-aa5d-9e5ce1aebcac"
      },
      "execution_count": 8,
      "outputs": [
        {
          "output_type": "execute_result",
          "data": {
            "text/plain": [
              "text     0\n",
              "label    0\n",
              "dtype: int64"
            ]
          },
          "metadata": {},
          "execution_count": 8
        }
      ]
    },
    {
      "cell_type": "code",
      "source": [
        "def clean_text(x):\n",
        "  x = x.lower()\n",
        "  x = ' '.join([word for word in x.split(' ') if word not in stop_words])\n",
        "  x = x.encode('ascii', 'ignore').decode()\n",
        "  x = re.sub(r'https*\\S+', ' ', x)\n",
        "  x = re.sub(r'@\\S+', ' ', x)\n",
        "  x = re.sub(r'#\\S+', ' ', x)\n",
        "  x = re.sub(r'\\'\\w+', '', x)\n",
        "  x = re.sub('[%s]' % re.escape(string.punctuation), ' ', x)\n",
        "  x = re.sub(r'\\w*\\d+\\w*', '', x)\n",
        "  x = re.sub(r'\\s{2,}', ' ', x)\n",
        "  return x"
      ],
      "metadata": {
        "id": "xzBeg0N7ufRD"
      },
      "execution_count": 9,
      "outputs": []
    },
    {
      "cell_type": "code",
      "source": [
        "train_data['text'] = train_data['text'].apply(clean_text)\n",
        "test_data['text'] = test_data['text'].apply(clean_text)"
      ],
      "metadata": {
        "id": "teHPnGjZwkM9"
      },
      "execution_count": 10,
      "outputs": []
    },
    {
      "cell_type": "code",
      "source": [
        "train_texts= train_data['text']\n",
        "test_texts = test_data['text']"
      ],
      "metadata": {
        "id": "22-Jl3Mrwr2s"
      },
      "execution_count": 11,
      "outputs": []
    },
    {
      "cell_type": "code",
      "source": [
        "train_labels = train_data['label']\n",
        "test_labels = test_data['label']"
      ],
      "metadata": {
        "id": "ZpKd9sj7wvu7"
      },
      "execution_count": 12,
      "outputs": []
    },
    {
      "cell_type": "code",
      "source": [
        "tokenizer = Tokenizer()\n",
        "tokenizer.fit_on_texts(train_texts)\n",
        "\n",
        "train_sequences = tokenizer.texts_to_sequences(train_texts)\n",
        "test_sequences = tokenizer.texts_to_sequences(test_texts)"
      ],
      "metadata": {
        "id": "WDNpmoBew_kK"
      },
      "execution_count": 13,
      "outputs": []
    },
    {
      "cell_type": "code",
      "source": [
        "class PMIModel(object):\n",
        "\n",
        "    def __init__(self):\n",
        "        self.word_counter = None\n",
        "        self.pair_counter = None\n",
        "\n",
        "    def get_pair_id(self, word0, word1):\n",
        "        pair_id = tuple(sorted([word0, word1]))\n",
        "        return pair_id\n",
        "\n",
        "    def fit(self, sequences, window_size):\n",
        "\n",
        "        self.word_counter = Counter()\n",
        "        self.pair_counter = Counter()\n",
        "        num_windows = 0\n",
        "        for sequence in tqdm(sequences):\n",
        "            for offset in range(len(sequence) - window_size):\n",
        "                window = sequence[offset:offset + window_size]\n",
        "                num_windows += 1\n",
        "                for i, word0 in enumerate(window):\n",
        "                    self.word_counter[word0] += 1\n",
        "                    for j, word1 in enumerate(window[i + 1:]):\n",
        "                        pair_id = self.get_pair_id(word0, word1)\n",
        "                        self.pair_counter[pair_id] += 1\n",
        "\n",
        "        for word, count in self.word_counter.items():\n",
        "            self.word_counter[word] = count / num_windows\n",
        "        for pair_id, count in self.pair_counter.items():\n",
        "            self.pair_counter[pair_id] = count / num_windows\n",
        "\n",
        "    def transform(self, word0, word1):\n",
        "        prob_a = self.word_counter[word0]\n",
        "        prob_b = self.word_counter[word1]\n",
        "        pair_id = self.get_pair_id(word0, word1)\n",
        "        prob_pair = self.pair_counter[pair_id]\n",
        "\n",
        "        if prob_a == 0 or prob_b == 0 or prob_pair == 0:\n",
        "           return 0\n",
        "\n",
        "        pmi = np.log(prob_pair / (prob_a * prob_b))\n",
        "        # print(word0, word1, pmi)\n",
        "        pmi = np.maximum(pmi, 0.0)\n",
        "        # print(pmi)\n",
        "        return pmi"
      ],
      "metadata": {
        "id": "JwYNvLtkxEjV"
      },
      "execution_count": 14,
      "outputs": []
    },
    {
      "cell_type": "code",
      "source": [
        "def build_word_graph(num_words, pmi_model, embedding_size):\n",
        "    x = tf.Variable(tf.random.truncated_normal([num_words, embedding_size], stddev=1 / np.sqrt(embedding_size)),\n",
        "                    dtype=tf.float32)\n",
        "    edges = []\n",
        "    edge_weight = []\n",
        "    for (word0, word1) in pmi_model.pair_counter.keys():\n",
        "        pmi = pmi_model.transform(word0, word1)\n",
        "        if pmi > 0:\n",
        "            edges.append([word0, word1])\n",
        "            edge_weight.append(pmi)\n",
        "            edges.append([word1, word0])\n",
        "            edge_weight.append(pmi)\n",
        "    edge_index = np.array(edges).T\n",
        "    return tfg.Graph(x=x, edge_index=edge_index, edge_weight=edge_weight)"
      ],
      "metadata": {
        "id": "2vRdqgoTxMTn"
      },
      "execution_count": 15,
      "outputs": []
    },
    {
      "cell_type": "code",
      "source": [
        "def build_combined_graph(word_graph, sequences, embedding_size):\n",
        "    num_words = word_graph.num_nodes\n",
        "    x = tf.zeros([len(sequences), embedding_size], dtype=tf.float32)\n",
        "    edges = []\n",
        "    edge_weight = []\n",
        "    for i, sequence in enumerate(sequences):\n",
        "        doc_node_index = num_words + i\n",
        "        for word in sequence:\n",
        "            edges.append([doc_node_index, word])  # only directed edge\n",
        "            edge_weight.append(1.0)  # use BOW instaead of TF-IDF\n",
        "\n",
        "    edge_index = np.array(edges).T\n",
        "    x = tf.concat([word_graph.x, x], axis=0)\n",
        "    edge_index = np.concatenate([word_graph.edge_index, edge_index], axis=1)\n",
        "    edge_weight = np.concatenate([word_graph.edge_weight, edge_weight], axis=0)\n",
        "    return tfg.Graph(x=x, edge_index=edge_index, edge_weight=edge_weight)"
      ],
      "metadata": {
        "id": "UEfvLkGXxP6Z"
      },
      "execution_count": 16,
      "outputs": []
    },
    {
      "cell_type": "code",
      "source": [
        "pmi_cache_path = \"cached_pmi_model.p\"\n",
        "if os.path.exists(pmi_cache_path):\n",
        "    with open(pmi_cache_path, \"rb\") as f:\n",
        "        pmi_model = pickle.load(f)\n",
        "else:\n",
        "    pmi_model = PMIModel()\n",
        "    pmi_model.fit(train_sequences, window_size=6)\n",
        "    with open(pmi_cache_path, \"wb\") as f:\n",
        "        pickle.dump(pmi_model, f)\n",
        "\n",
        "embedding_size = 150\n",
        "num_words = len(tokenizer.word_index) + 1\n",
        "word_graph = build_word_graph(num_words, pmi_model, embedding_size)\n",
        "train_combined_graph = build_combined_graph(word_graph, train_sequences, embedding_size)\n",
        "test_combined_graph = build_combined_graph(word_graph, test_sequences, embedding_size)\n",
        "\n",
        "print(word_graph)\n",
        "print(train_combined_graph)\n",
        "print(test_combined_graph)\n",
        "\n",
        "num_classes =6"
      ],
      "metadata": {
        "colab": {
          "base_uri": "https://localhost:8080/"
        },
        "id": "_fIc6lSbxRiD",
        "outputId": "f6c44c25-dc14-4868-a920-c658daf9dc11"
      },
      "execution_count": 17,
      "outputs": [
        {
          "output_type": "stream",
          "name": "stdout",
          "text": [
            "Graph Shape: x => (15064, 150)\tedge_index => (2, 493256)\ty => None\n",
            "Graph Shape: x => (31064, 150)\tedge_index => (2, 642898)\ty => None\n",
            "Graph Shape: x => (17064, 150)\tedge_index => (2, 510820)\ty => None\n"
          ]
        }
      ]
    },
    {
      "cell_type": "code",
      "source": [
        "class GCNModel(tf.keras.Model):\n",
        "\n",
        "    def __init__(self, *args, **kwargs):\n",
        "        super().__init__(*args, **kwargs)\n",
        "        self.gcn0 = tfg.layers.GCN(100, activation=tf.nn.relu)\n",
        "        self.gcn1 = tfg.layers.GCN(100, activation=tf.nn.relu)\n",
        "        self.gcn2 = tfg.layers.GCN(50, activation=tf.nn.relu)\n",
        "        self.gcn3 = tfg.layers.GCN(num_classes)\n",
        "        self.dropout = keras.layers.Dropout(0.5)\n",
        "\n",
        "    def call(self, inputs, training=None, mask=None, cache=None):\n",
        "        x, edge_index, edge_weight = inputs\n",
        "        h = self.gcn0([x, edge_index, edge_weight], cache=cache)\n",
        "        h = self.gcn1([h, edge_index, edge_weight], cache=cache)\n",
        "        h = self.dropout(h, training=training)\n",
        "        h = self.gcn2([h, edge_index, edge_weight], cache=cache)\n",
        "        h = self.gcn3([h, edge_index, edge_weight], cache=cache)\n",
        "        return h"
      ],
      "metadata": {
        "id": "5Exhk4q3xXDk"
      },
      "execution_count": 18,
      "outputs": []
    },
    {
      "cell_type": "code",
      "source": [
        "model = GCNModel()\n",
        "model.gcn0.cache_normed_edge(train_combined_graph)\n",
        "model.gcn0.cache_normed_edge(test_combined_graph)"
      ],
      "metadata": {
        "colab": {
          "base_uri": "https://localhost:8080/"
        },
        "id": "yWHfw_AFxqFK",
        "outputId": "acbcd0aa-43a6-4a40-c2d9-8ee791a9ac23"
      },
      "execution_count": 19,
      "outputs": [
        {
          "output_type": "stream",
          "name": "stderr",
          "text": [
            "/usr/local/lib/python3.7/dist-packages/tf_geometric/layers/conv/gcn.py:79: DeprecationWarning: 'GCN.cache_normed_edge(graph, override)' is deprecated, use 'GCN.build_cache_for_graph(graph, override)' instead\n",
            "  warnings.warn(\"'GCN.cache_normed_edge(graph, override)' is deprecated, use 'GCN.build_cache_for_graph(graph, override)' instead\", DeprecationWarning)\n",
            "/usr/local/lib/python3.7/dist-packages/tf_geometric/layers/conv/gcn.py:79: DeprecationWarning: 'GCN.cache_normed_edge(graph, override)' is deprecated, use 'GCN.build_cache_for_graph(graph, override)' instead\n",
            "  warnings.warn(\"'GCN.cache_normed_edge(graph, override)' is deprecated, use 'GCN.build_cache_for_graph(graph, override)' instead\", DeprecationWarning)\n"
          ]
        }
      ]
    },
    {
      "cell_type": "code",
      "source": [
        "@tf_utils.function\n",
        "def forward(graph, training=False):\n",
        "    logits = model([graph.x, graph.edge_index, graph.edge_weight], cache=graph.cache, training=training)\n",
        "    logits = logits[num_words:]\n",
        "    return logits"
      ],
      "metadata": {
        "id": "K4rY7fvZxtLb"
      },
      "execution_count": 20,
      "outputs": []
    },
    {
      "cell_type": "code",
      "source": [
        "def compute_loss(logits, labels):\n",
        "    losses = tf.nn.softmax_cross_entropy_with_logits(\n",
        "        logits=logits,\n",
        "        labels=tf.one_hot(labels, depth=num_classes)\n",
        "    )\n",
        "    mean_loss = tf.reduce_mean(losses)\n",
        "    return mean_loss"
      ],
      "metadata": {
        "id": "Bn1E6l5oxvO4"
      },
      "execution_count": 21,
      "outputs": []
    },
    {
      "cell_type": "code",
      "source": [
        "optimizer = tf.keras.optimizers.Adam(learning_rate=0.01)"
      ],
      "metadata": {
        "id": "tdMHK5bexxHD"
      },
      "execution_count": 22,
      "outputs": []
    },
    {
      "cell_type": "code",
      "source": [
        "train_losses, train_accs, test_losses, test_accs= [],[],[],[]\n",
        "for step in range(5000):\n",
        "    with tf.GradientTape() as tape:\n",
        "        logits = forward(train_combined_graph, training=True)\n",
        "        # print(\"logits\" ,logits[0],\"Shape\",logits[0].shape)\n",
        "        mean_loss = compute_loss(logits, train_labels)\n",
        "\n",
        "    vars = tape.watched_variables()\n",
        "    grads = tape.gradient(mean_loss, vars)\n",
        "    optimizer.apply_gradients(zip(grads, vars))\n",
        "\n",
        "    if step % 10 == 0:\n",
        "        # train accuracytf.one_hot(labels, depth=num_classes)\n",
        "        preds = tf.argmax(logits, axis=-1)\n",
        "        corrects = tf.cast(tf.equal(preds, train_labels), tf.float32)\n",
        "        train_accuracy = tf.reduce_mean(corrects)\n",
        "        train_accs.append(train_accuracy)\n",
        "        train_losses.append(mean_loss)\n",
        "\n",
        "        logits = forward(test_combined_graph)\n",
        "        test_loss = compute_loss(logits, test_labels)\n",
        "        preds = tf.argmax(logits, axis=-1)\n",
        "        corrects = tf.cast(tf.equal(preds, test_labels), tf.float32)\n",
        "        accuracy = tf.reduce_mean(corrects)\n",
        "        test_accs.append(accuracy)\n",
        "        test_losses.append(test_loss)\n",
        "        print(\"step = {}\\tloss = {}\\ttrain_accuracy = {}\\ttest_accuracy = {}\".format(step, mean_loss, train_accuracy,accuracy))"
      ],
      "metadata": {
        "colab": {
          "base_uri": "https://localhost:8080/"
        },
        "id": "Y9aRgLo1x0Hz",
        "outputId": "15f71e2a-89a1-4b5e-8697-429db065b7da"
      },
      "execution_count": 23,
      "outputs": [
        {
          "metadata": {
            "tags": null
          },
          "name": "stdout",
          "output_type": "stream",
          "text": [
            "step = 0\tloss = 1.792064905166626\ttrain_accuracy = 0.12412499636411667\ttest_accuracy = 0.3474999964237213\n",
            "step = 10\tloss = 1.6014821529388428\ttrain_accuracy = 0.33506250381469727\ttest_accuracy = 0.3474999964237213\n",
            "step = 20\tloss = 1.5915946960449219\ttrain_accuracy = 0.33518749475479126\ttest_accuracy = 0.3474999964237213\n",
            "step = 30\tloss = 1.5824384689331055\ttrain_accuracy = 0.33512499928474426\ttest_accuracy = 0.3474999964237213\n",
            "step = 40\tloss = 1.573933482170105\ttrain_accuracy = 0.335812509059906\ttest_accuracy = 0.3474999964237213\n",
            "step = 50\tloss = 1.5628747940063477\ttrain_accuracy = 0.34337499737739563\ttest_accuracy = 0.3449999988079071\n",
            "step = 60\tloss = 1.5464024543762207\ttrain_accuracy = 0.35112500190734863\ttest_accuracy = 0.34450000524520874\n",
            "step = 70\tloss = 1.5135329961776733\ttrain_accuracy = 0.3686249852180481\ttest_accuracy = 0.3440000116825104\n",
            "step = 80\tloss = 1.4797346591949463\ttrain_accuracy = 0.38062500953674316\ttest_accuracy = 0.34700000286102295\n",
            "step = 90\tloss = 1.4580323696136475\ttrain_accuracy = 0.3919999897480011\ttest_accuracy = 0.36149999499320984\n",
            "step = 100\tloss = 1.44048273563385\ttrain_accuracy = 0.41225001215934753\ttest_accuracy = 0.34950000047683716\n",
            "step = 110\tloss = 1.431485652923584\ttrain_accuracy = 0.42868751287460327\ttest_accuracy = 0.3804999887943268\n",
            "step = 120\tloss = 1.4193718433380127\ttrain_accuracy = 0.43662500381469727\ttest_accuracy = 0.3564999997615814\n",
            "step = 130\tloss = 1.4063420295715332\ttrain_accuracy = 0.4568749964237213\ttest_accuracy = 0.3919999897480011\n",
            "step = 140\tloss = 1.3997656106948853\ttrain_accuracy = 0.4585624933242798\ttest_accuracy = 0.4090000092983246\n",
            "step = 150\tloss = 1.3896770477294922\ttrain_accuracy = 0.46968749165534973\ttest_accuracy = 0.31200000643730164\n",
            "step = 160\tloss = 1.3820348978042603\ttrain_accuracy = 0.4424999952316284\ttest_accuracy = 0.42399999499320984\n",
            "step = 170\tloss = 1.3744001388549805\ttrain_accuracy = 0.4417499899864197\ttest_accuracy = 0.4350000023841858\n",
            "step = 180\tloss = 1.440423846244812\ttrain_accuracy = 0.39806249737739563\ttest_accuracy = 0.2980000078678131\n",
            "step = 190\tloss = 1.3723485469818115\ttrain_accuracy = 0.4651249945163727\ttest_accuracy = 0.3734999895095825\n",
            "step = 200\tloss = 1.3511228561401367\ttrain_accuracy = 0.4789375066757202\ttest_accuracy = 0.4505000114440918\n",
            "step = 210\tloss = 1.334614872932434\ttrain_accuracy = 0.5004374980926514\ttest_accuracy = 0.4325000047683716\n",
            "step = 220\tloss = 1.3188714981079102\ttrain_accuracy = 0.484375\ttest_accuracy = 0.42649999260902405\n",
            "step = 230\tloss = 1.3185648918151855\ttrain_accuracy = 0.5284374952316284\ttest_accuracy = 0.35350000858306885\n",
            "step = 240\tloss = 1.299597144126892\ttrain_accuracy = 0.5336250066757202\ttest_accuracy = 0.3479999899864197\n",
            "step = 250\tloss = 1.3016459941864014\ttrain_accuracy = 0.4713124930858612\ttest_accuracy = 0.4740000069141388\n",
            "step = 260\tloss = 1.4446074962615967\ttrain_accuracy = 0.5196250081062317\ttest_accuracy = 0.3779999911785126\n",
            "step = 270\tloss = 1.3766106367111206\ttrain_accuracy = 0.42250001430511475\ttest_accuracy = 0.38350000977516174\n",
            "step = 280\tloss = 1.3279792070388794\ttrain_accuracy = 0.5270624756813049\ttest_accuracy = 0.4259999990463257\n",
            "step = 290\tloss = 1.2983461618423462\ttrain_accuracy = 0.5050625205039978\ttest_accuracy = 0.4855000078678131\n",
            "step = 300\tloss = 1.261852741241455\ttrain_accuracy = 0.546625018119812\ttest_accuracy = 0.4894999861717224\n",
            "step = 310\tloss = 1.241426706314087\ttrain_accuracy = 0.5560625195503235\ttest_accuracy = 0.48399999737739563\n",
            "step = 320\tloss = 1.2236496210098267\ttrain_accuracy = 0.5603125095367432\ttest_accuracy = 0.4569999873638153\n",
            "step = 330\tloss = 1.774344563484192\ttrain_accuracy = 0.3776249885559082\ttest_accuracy = 0.4620000123977661\n",
            "step = 340\tloss = 1.326724886894226\ttrain_accuracy = 0.4423125088214874\ttest_accuracy = 0.3400000035762787\n",
            "step = 350\tloss = 1.273905873298645\ttrain_accuracy = 0.5671250224113464\ttest_accuracy = 0.4465000033378601\n",
            "step = 360\tloss = 1.2474321126937866\ttrain_accuracy = 0.5461875200271606\ttest_accuracy = 0.4950000047683716\n",
            "step = 370\tloss = 1.214721441268921\ttrain_accuracy = 0.5685625076293945\ttest_accuracy = 0.4909999966621399\n",
            "step = 380\tloss = 1.1911460161209106\ttrain_accuracy = 0.5809999704360962\ttest_accuracy = 0.5090000033378601\n",
            "step = 390\tloss = 1.1689001321792603\ttrain_accuracy = 0.5850625038146973\ttest_accuracy = 0.5184999704360962\n",
            "step = 400\tloss = 1.1481441259384155\ttrain_accuracy = 0.5966249704360962\ttest_accuracy = 0.5274999737739563\n",
            "step = 410\tloss = 1.203338384628296\ttrain_accuracy = 0.5161874890327454\ttest_accuracy = 0.24500000476837158\n",
            "step = 420\tloss = 1.2956722974777222\ttrain_accuracy = 0.5687500238418579\ttest_accuracy = 0.3799999952316284\n",
            "step = 430\tloss = 1.2920945882797241\ttrain_accuracy = 0.49306249618530273\ttest_accuracy = 0.43149998784065247\n",
            "step = 440\tloss = 1.249118685722351\ttrain_accuracy = 0.5411249995231628\ttest_accuracy = 0.4675000011920929\n",
            "step = 450\tloss = 1.2088760137557983\ttrain_accuracy = 0.5833125114440918\ttest_accuracy = 0.5019999742507935\n",
            "step = 460\tloss = 1.1743457317352295\ttrain_accuracy = 0.5949375033378601\ttest_accuracy = 0.5145000219345093\n",
            "step = 470\tloss = 1.1437251567840576\ttrain_accuracy = 0.6040624976158142\ttest_accuracy = 0.5274999737739563\n",
            "step = 480\tloss = 1.1295989751815796\ttrain_accuracy = 0.6021249890327454\ttest_accuracy = 0.5389999747276306\n",
            "step = 490\tloss = 1.1080012321472168\ttrain_accuracy = 0.6086875200271606\ttest_accuracy = 0.5289999842643738\n",
            "step = 500\tloss = 1.1598074436187744\ttrain_accuracy = 0.5373749732971191\ttest_accuracy = 0.4645000100135803\n",
            "step = 510\tloss = 1.139905571937561\ttrain_accuracy = 0.5687500238418579\ttest_accuracy = 0.546999990940094\n",
            "step = 520\tloss = 1.110097050666809\ttrain_accuracy = 0.5947499871253967\ttest_accuracy = 0.4779999852180481\n",
            "step = 530\tloss = 1.0724875926971436\ttrain_accuracy = 0.624750018119812\ttest_accuracy = 0.5264999866485596\n",
            "step = 540\tloss = 1.0864274501800537\ttrain_accuracy = 0.6006249785423279\ttest_accuracy = 0.4880000054836273\n",
            "step = 550\tloss = 1.4369686841964722\ttrain_accuracy = 0.5020624995231628\ttest_accuracy = 0.47850000858306885\n",
            "step = 560\tloss = 1.117724895477295\ttrain_accuracy = 0.6188750267028809\ttest_accuracy = 0.492000013589859\n",
            "step = 570\tloss = 1.118873953819275\ttrain_accuracy = 0.5872499942779541\ttest_accuracy = 0.5339999794960022\n",
            "step = 580\tloss = 1.0829781293869019\ttrain_accuracy = 0.6227499842643738\ttest_accuracy = 0.5584999918937683\n",
            "step = 590\tloss = 1.0617930889129639\ttrain_accuracy = 0.6203749775886536\ttest_accuracy = 0.5074999928474426\n",
            "step = 600\tloss = 1.0365480184555054\ttrain_accuracy = 0.6429374814033508\ttest_accuracy = 0.5239999890327454\n",
            "step = 610\tloss = 1.0399004220962524\ttrain_accuracy = 0.6566874980926514\ttest_accuracy = 0.5634999871253967\n",
            "step = 620\tloss = 1.0411875247955322\ttrain_accuracy = 0.6103125214576721\ttest_accuracy = 0.5099999904632568\n",
            "step = 630\tloss = 1.0374616384506226\ttrain_accuracy = 0.6305624842643738\ttest_accuracy = 0.5174999833106995\n",
            "step = 640\tloss = 1.1004176139831543\ttrain_accuracy = 0.6303125023841858\ttest_accuracy = 0.46399998664855957\n",
            "step = 650\tloss = 1.0479991436004639\ttrain_accuracy = 0.6112499833106995\ttest_accuracy = 0.5575000047683716\n",
            "step = 660\tloss = 1.0121768712997437\ttrain_accuracy = 0.6452500224113464\ttest_accuracy = 0.5404999852180481\n",
            "step = 670\tloss = 1.0000430345535278\ttrain_accuracy = 0.6486250162124634\ttest_accuracy = 0.578499972820282\n",
            "step = 680\tloss = 0.9720250368118286\ttrain_accuracy = 0.6628124713897705\ttest_accuracy = 0.5830000042915344\n",
            "step = 690\tloss = 1.0061167478561401\ttrain_accuracy = 0.6444374918937683\ttest_accuracy = 0.5019999742507935\n",
            "step = 700\tloss = 0.9950538277626038\ttrain_accuracy = 0.6398125290870667\ttest_accuracy = 0.5425000190734863\n",
            "step = 710\tloss = 1.0024099349975586\ttrain_accuracy = 0.6754999756813049\ttest_accuracy = 0.5174999833106995\n",
            "step = 720\tloss = 0.9763930439949036\ttrain_accuracy = 0.6714375019073486\ttest_accuracy = 0.5705000162124634\n",
            "step = 730\tloss = 0.9807156324386597\ttrain_accuracy = 0.645312488079071\ttest_accuracy = 0.5534999966621399\n",
            "step = 740\tloss = 0.9456435441970825\ttrain_accuracy = 0.6788125038146973\ttest_accuracy = 0.5870000123977661\n",
            "step = 750\tloss = 1.1926624774932861\ttrain_accuracy = 0.5512499809265137\ttest_accuracy = 0.5080000162124634\n",
            "step = 760\tloss = 1.2554606199264526\ttrain_accuracy = 0.534500002861023\ttest_accuracy = 0.5609999895095825\n",
            "step = 770\tloss = 1.0341624021530151\ttrain_accuracy = 0.6383749842643738\ttest_accuracy = 0.5644999742507935\n",
            "step = 780\tloss = 0.9590715765953064\ttrain_accuracy = 0.6723750233650208\ttest_accuracy = 0.5950000286102295\n",
            "step = 790\tloss = 0.9662919640541077\ttrain_accuracy = 0.6541875004768372\ttest_accuracy = 0.5879999995231628\n",
            "step = 800\tloss = 0.9672679305076599\ttrain_accuracy = 0.6413750052452087\ttest_accuracy = 0.5910000205039978\n",
            "step = 810\tloss = 0.9207661151885986\ttrain_accuracy = 0.6798750162124634\ttest_accuracy = 0.5899999737739563\n",
            "step = 820\tloss = 0.8994750380516052\ttrain_accuracy = 0.6965625286102295\ttest_accuracy = 0.5634999871253967\n",
            "step = 830\tloss = 1.0199923515319824\ttrain_accuracy = 0.6298750042915344\ttest_accuracy = 0.5364999771118164\n",
            "step = 840\tloss = 1.2645994424819946\ttrain_accuracy = 0.5068125128746033\ttest_accuracy = 0.5475000143051147\n",
            "step = 850\tloss = 1.0382606983184814\ttrain_accuracy = 0.6509374976158142\ttest_accuracy = 0.5824999809265137\n",
            "step = 860\tloss = 0.9550684690475464\ttrain_accuracy = 0.6769375205039978\ttest_accuracy = 0.6010000109672546\n",
            "step = 870\tloss = 0.9323676824569702\ttrain_accuracy = 0.687749981880188\ttest_accuracy = 0.609000027179718\n",
            "step = 880\tloss = 0.9253847599029541\ttrain_accuracy = 0.6857500076293945\ttest_accuracy = 0.612500011920929\n",
            "step = 890\tloss = 0.8960020542144775\ttrain_accuracy = 0.6899374723434448\ttest_accuracy = 0.5895000100135803\n",
            "step = 900\tloss = 0.8808387517929077\ttrain_accuracy = 0.7128750085830688\ttest_accuracy = 0.6085000038146973\n",
            "step = 910\tloss = 0.8930581212043762\ttrain_accuracy = 0.6845625042915344\ttest_accuracy = 0.5914999842643738\n",
            "step = 920\tloss = 0.9569730162620544\ttrain_accuracy = 0.6319375038146973\ttest_accuracy = 0.5084999799728394\n",
            "step = 930\tloss = 1.2030231952667236\ttrain_accuracy = 0.5835000276565552\ttest_accuracy = 0.4860000014305115\n",
            "step = 940\tloss = 0.9807201027870178\ttrain_accuracy = 0.6496875286102295\ttest_accuracy = 0.5049999952316284\n",
            "step = 950\tloss = 0.9404041767120361\ttrain_accuracy = 0.7009999752044678\ttest_accuracy = 0.5674999952316284\n",
            "step = 960\tloss = 0.9165681004524231\ttrain_accuracy = 0.6888124942779541\ttest_accuracy = 0.612500011920929\n",
            "step = 970\tloss = 0.9258254766464233\ttrain_accuracy = 0.668749988079071\ttest_accuracy = 0.6230000257492065\n",
            "step = 980\tloss = 0.859589695930481\ttrain_accuracy = 0.7092499732971191\ttest_accuracy = 0.6014999747276306\n",
            "step = 990\tloss = 0.8517100811004639\ttrain_accuracy = 0.7160624861717224\ttest_accuracy = 0.5805000066757202\n",
            "step = 1000\tloss = 0.867899477481842\ttrain_accuracy = 0.6878125071525574\ttest_accuracy = 0.5989999771118164\n",
            "step = 1010\tloss = 0.8450322151184082\ttrain_accuracy = 0.7238125205039978\ttest_accuracy = 0.6299999952316284\n",
            "step = 1020\tloss = 0.8299066424369812\ttrain_accuracy = 0.7196875214576721\ttest_accuracy = 0.6110000014305115\n",
            "step = 1030\tloss = 0.8292317986488342\ttrain_accuracy = 0.7239375114440918\ttest_accuracy = 0.6309999823570251\n",
            "step = 1040\tloss = 0.9373242259025574\ttrain_accuracy = 0.6538749933242798\ttest_accuracy = 0.6014999747276306\n",
            "step = 1050\tloss = 0.8299527168273926\ttrain_accuracy = 0.7120000123977661\ttest_accuracy = 0.6110000014305115\n",
            "step = 1060\tloss = 0.8134272694587708\ttrain_accuracy = 0.7196249961853027\ttest_accuracy = 0.5824999809265137\n",
            "step = 1070\tloss = 0.8831738829612732\ttrain_accuracy = 0.6801875233650208\ttest_accuracy = 0.5885000228881836\n",
            "step = 1080\tloss = 0.9271669983863831\ttrain_accuracy = 0.6653125286102295\ttest_accuracy = 0.6025000214576721\n",
            "step = 1090\tloss = 0.8822481036186218\ttrain_accuracy = 0.6990000009536743\ttest_accuracy = 0.5975000262260437\n",
            "step = 1100\tloss = 0.827479362487793\ttrain_accuracy = 0.7233750224113464\ttest_accuracy = 0.6150000095367432\n",
            "step = 1110\tloss = 0.7995014786720276\ttrain_accuracy = 0.7412499785423279\ttest_accuracy = 0.628000020980835\n",
            "step = 1120\tloss = 0.7848034501075745\ttrain_accuracy = 0.7365624904632568\ttest_accuracy = 0.6184999942779541\n",
            "step = 1130\tloss = 0.8130002617835999\ttrain_accuracy = 0.7135624885559082\ttest_accuracy = 0.5979999899864197\n",
            "step = 1140\tloss = 0.8076160550117493\ttrain_accuracy = 0.7308124899864197\ttest_accuracy = 0.6265000104904175\n",
            "step = 1150\tloss = 0.8289013504981995\ttrain_accuracy = 0.6988124847412109\ttest_accuracy = 0.5759999752044678\n",
            "step = 1160\tloss = 0.7690242528915405\ttrain_accuracy = 0.742062509059906\ttest_accuracy = 0.6460000276565552\n",
            "step = 1170\tloss = 0.8019933104515076\ttrain_accuracy = 0.7108749747276306\ttest_accuracy = 0.5954999923706055\n",
            "step = 1180\tloss = 0.7698748707771301\ttrain_accuracy = 0.7518749833106995\ttest_accuracy = 0.6265000104904175\n",
            "step = 1190\tloss = 0.8027913570404053\ttrain_accuracy = 0.7086250185966492\ttest_accuracy = 0.5885000228881836\n",
            "step = 1200\tloss = 0.765199601650238\ttrain_accuracy = 0.7455000281333923\ttest_accuracy = 0.531000018119812\n",
            "step = 1210\tloss = 0.9266981482505798\ttrain_accuracy = 0.6408125162124634\ttest_accuracy = 0.6485000252723694\n",
            "step = 1220\tloss = 0.7932032346725464\ttrain_accuracy = 0.7219374775886536\ttest_accuracy = 0.6460000276565552\n",
            "step = 1230\tloss = 0.7582352161407471\ttrain_accuracy = 0.749625027179718\ttest_accuracy = 0.6265000104904175\n",
            "step = 1240\tloss = 0.7896345853805542\ttrain_accuracy = 0.7135000228881836\ttest_accuracy = 0.609000027179718\n",
            "step = 1250\tloss = 0.7523285746574402\ttrain_accuracy = 0.7404375076293945\ttest_accuracy = 0.6284999847412109\n",
            "step = 1260\tloss = 0.8663454651832581\ttrain_accuracy = 0.6943749785423279\ttest_accuracy = 0.640500009059906\n",
            "step = 1270\tloss = 1.3158888816833496\ttrain_accuracy = 0.5519375205039978\ttest_accuracy = 0.4404999911785126\n",
            "step = 1280\tloss = 0.9981535077095032\ttrain_accuracy = 0.6301875114440918\ttest_accuracy = 0.5734999775886536\n",
            "step = 1290\tloss = 0.8266521096229553\ttrain_accuracy = 0.7093750238418579\ttest_accuracy = 0.5954999923706055\n",
            "step = 1300\tloss = 0.8109900951385498\ttrain_accuracy = 0.7219374775886536\ttest_accuracy = 0.6510000228881836\n",
            "step = 1310\tloss = 0.7577527761459351\ttrain_accuracy = 0.7491875290870667\ttest_accuracy = 0.6570000052452087\n",
            "step = 1320\tloss = 0.7419362664222717\ttrain_accuracy = 0.7611250281333923\ttest_accuracy = 0.6704999804496765\n",
            "step = 1330\tloss = 0.7255607843399048\ttrain_accuracy = 0.7634999752044678\ttest_accuracy = 0.6660000085830688\n",
            "step = 1340\tloss = 0.6999812126159668\ttrain_accuracy = 0.7660624980926514\ttest_accuracy = 0.6449999809265137\n",
            "step = 1350\tloss = 0.7218955159187317\ttrain_accuracy = 0.749625027179718\ttest_accuracy = 0.6650000214576721\n",
            "step = 1360\tloss = 0.7027291655540466\ttrain_accuracy = 0.7613124847412109\ttest_accuracy = 0.675000011920929\n",
            "step = 1370\tloss = 0.6842389106750488\ttrain_accuracy = 0.7718750238418579\ttest_accuracy = 0.659500002861023\n",
            "step = 1380\tloss = 0.6956324577331543\ttrain_accuracy = 0.7661250233650208\ttest_accuracy = 0.5920000076293945\n",
            "step = 1390\tloss = 0.7904244065284729\ttrain_accuracy = 0.7375624775886536\ttest_accuracy = 0.609499990940094\n",
            "step = 1400\tloss = 0.742295503616333\ttrain_accuracy = 0.731249988079071\ttest_accuracy = 0.6759999990463257\n",
            "step = 1410\tloss = 0.6850442886352539\ttrain_accuracy = 0.7796875238418579\ttest_accuracy = 0.6345000267028809\n",
            "step = 1420\tloss = 0.671835720539093\ttrain_accuracy = 0.7768124938011169\ttest_accuracy = 0.6439999938011169\n",
            "step = 1430\tloss = 0.6589235663414001\ttrain_accuracy = 0.7864375114440918\ttest_accuracy = 0.6694999933242798\n",
            "step = 1440\tloss = 0.6634290814399719\ttrain_accuracy = 0.7847499847412109\ttest_accuracy = 0.6685000061988831\n",
            "step = 1450\tloss = 0.7197275161743164\ttrain_accuracy = 0.7367500066757202\ttest_accuracy = 0.612500011920929\n",
            "step = 1460\tloss = 0.6785939931869507\ttrain_accuracy = 0.7651875019073486\ttest_accuracy = 0.6320000290870667\n",
            "step = 1470\tloss = 0.6912557482719421\ttrain_accuracy = 0.7821875214576721\ttest_accuracy = 0.6614999771118164\n",
            "step = 1480\tloss = 0.6621646881103516\ttrain_accuracy = 0.7751250267028809\ttest_accuracy = 0.6710000038146973\n",
            "step = 1490\tloss = 0.6456014513969421\ttrain_accuracy = 0.7885000109672546\ttest_accuracy = 0.6834999918937683\n",
            "step = 1500\tloss = 0.6396299004554749\ttrain_accuracy = 0.7932500243186951\ttest_accuracy = 0.6744999885559082\n",
            "step = 1510\tloss = 0.6689375042915344\ttrain_accuracy = 0.7609999775886536\ttest_accuracy = 0.6675000190734863\n",
            "step = 1520\tloss = 0.6529460549354553\ttrain_accuracy = 0.7698125243186951\ttest_accuracy = 0.6650000214576721\n",
            "step = 1530\tloss = 0.6339285969734192\ttrain_accuracy = 0.7828750014305115\ttest_accuracy = 0.671500027179718\n",
            "step = 1540\tloss = 0.6618255376815796\ttrain_accuracy = 0.7700625061988831\ttest_accuracy = 0.6644999980926514\n",
            "step = 1550\tloss = 0.6897203922271729\ttrain_accuracy = 0.7613124847412109\ttest_accuracy = 0.6610000133514404\n",
            "step = 1560\tloss = 0.6093893051147461\ttrain_accuracy = 0.7991874814033508\ttest_accuracy = 0.6880000233650208\n",
            "step = 1570\tloss = 0.6686318516731262\ttrain_accuracy = 0.7868124842643738\ttest_accuracy = 0.6480000019073486\n",
            "step = 1580\tloss = 0.6940072178840637\ttrain_accuracy = 0.7745000123977661\ttest_accuracy = 0.6859999895095825\n",
            "step = 1590\tloss = 0.6404750943183899\ttrain_accuracy = 0.7948750257492065\ttest_accuracy = 0.6604999899864197\n",
            "step = 1600\tloss = 0.7254157662391663\ttrain_accuracy = 0.729812502861023\ttest_accuracy = 0.6200000047683716\n",
            "step = 1610\tloss = 0.792872965335846\ttrain_accuracy = 0.6961874961853027\ttest_accuracy = 0.6485000252723694\n",
            "step = 1620\tloss = 0.6163476705551147\ttrain_accuracy = 0.7985625267028809\ttest_accuracy = 0.6725000143051147\n",
            "step = 1630\tloss = 0.6020952463150024\ttrain_accuracy = 0.8113124966621399\ttest_accuracy = 0.6834999918937683\n",
            "step = 1640\tloss = 0.6054422855377197\ttrain_accuracy = 0.796999990940094\ttest_accuracy = 0.6819999814033508\n",
            "step = 1650\tloss = 0.6195518970489502\ttrain_accuracy = 0.7877500057220459\ttest_accuracy = 0.6945000290870667\n",
            "step = 1660\tloss = 0.6125505566596985\ttrain_accuracy = 0.7824375033378601\ttest_accuracy = 0.6389999985694885\n",
            "step = 1670\tloss = 0.8030772805213928\ttrain_accuracy = 0.7125625014305115\ttest_accuracy = 0.637499988079071\n",
            "step = 1680\tloss = 0.7972365021705627\ttrain_accuracy = 0.7131875157356262\ttest_accuracy = 0.6974999904632568\n",
            "step = 1690\tloss = 0.6197874546051025\ttrain_accuracy = 0.8015000224113464\ttest_accuracy = 0.6704999804496765\n",
            "step = 1700\tloss = 0.6600496768951416\ttrain_accuracy = 0.7666875123977661\ttest_accuracy = 0.6884999871253967\n",
            "step = 1710\tloss = 0.6288044452667236\ttrain_accuracy = 0.7841249704360962\ttest_accuracy = 0.6539999842643738\n",
            "step = 1720\tloss = 0.5804600119590759\ttrain_accuracy = 0.8051875233650208\ttest_accuracy = 0.6604999899864197\n",
            "step = 1730\tloss = 0.6039255261421204\ttrain_accuracy = 0.7922499775886536\ttest_accuracy = 0.6955000162124634\n",
            "step = 1740\tloss = 0.5636985301971436\ttrain_accuracy = 0.8184375166893005\ttest_accuracy = 0.7070000171661377\n",
            "step = 1750\tloss = 0.5642836689949036\ttrain_accuracy = 0.8110625147819519\ttest_accuracy = 0.6970000267028809\n",
            "step = 1760\tloss = 0.5736367106437683\ttrain_accuracy = 0.8011875152587891\ttest_accuracy = 0.6924999952316284\n",
            "step = 1770\tloss = 0.5584876537322998\ttrain_accuracy = 0.8112499713897705\ttest_accuracy = 0.7009999752044678\n",
            "step = 1780\tloss = 0.575410783290863\ttrain_accuracy = 0.8024374842643738\ttest_accuracy = 0.699999988079071\n",
            "step = 1790\tloss = 0.5718986392021179\ttrain_accuracy = 0.8140624761581421\ttest_accuracy = 0.6894999742507935\n",
            "step = 1800\tloss = 0.6988406777381897\ttrain_accuracy = 0.7444999814033508\ttest_accuracy = 0.6570000052452087\n",
            "step = 1810\tloss = 0.6160917282104492\ttrain_accuracy = 0.7854375243186951\ttest_accuracy = 0.6269999742507935\n",
            "step = 1820\tloss = 0.6810405254364014\ttrain_accuracy = 0.7416250109672546\ttest_accuracy = 0.6144999861717224\n",
            "step = 1830\tloss = 0.5646147131919861\ttrain_accuracy = 0.8162500262260437\ttest_accuracy = 0.6790000200271606\n",
            "step = 1840\tloss = 0.5677526593208313\ttrain_accuracy = 0.8107500076293945\ttest_accuracy = 0.6890000104904175\n",
            "step = 1850\tloss = 0.5384925007820129\ttrain_accuracy = 0.8216875195503235\ttest_accuracy = 0.7080000042915344\n",
            "step = 1860\tloss = 0.5418283343315125\ttrain_accuracy = 0.8146874904632568\ttest_accuracy = 0.7049999833106995\n",
            "step = 1870\tloss = 0.5383175611495972\ttrain_accuracy = 0.8203125\ttest_accuracy = 0.7085000276565552\n",
            "step = 1880\tloss = 0.5506389737129211\ttrain_accuracy = 0.8106874823570251\ttest_accuracy = 0.6244999766349792\n",
            "step = 1890\tloss = 0.5408303737640381\ttrain_accuracy = 0.8216875195503235\ttest_accuracy = 0.6775000095367432\n",
            "step = 1900\tloss = 0.5617620944976807\ttrain_accuracy = 0.8016250133514404\ttest_accuracy = 0.703499972820282\n",
            "step = 1910\tloss = 0.5169523358345032\ttrain_accuracy = 0.8310624957084656\ttest_accuracy = 0.671500027179718\n",
            "step = 1920\tloss = 0.5653073787689209\ttrain_accuracy = 0.7961249947547913\ttest_accuracy = 0.6485000252723694\n",
            "step = 1930\tloss = 0.689264178276062\ttrain_accuracy = 0.7458750009536743\ttest_accuracy = 0.6050000190734863\n",
            "step = 1940\tloss = 0.7134032249450684\ttrain_accuracy = 0.7386249899864197\ttest_accuracy = 0.7059999704360962\n",
            "step = 1950\tloss = 0.5423344969749451\ttrain_accuracy = 0.8239374756813049\ttest_accuracy = 0.6834999918937683\n",
            "step = 1960\tloss = 0.574414074420929\ttrain_accuracy = 0.793749988079071\ttest_accuracy = 0.703499972820282\n",
            "step = 1970\tloss = 0.5317264795303345\ttrain_accuracy = 0.8184375166893005\ttest_accuracy = 0.7024999856948853\n",
            "step = 1980\tloss = 0.5185429453849792\ttrain_accuracy = 0.8262500166893005\ttest_accuracy = 0.7064999938011169\n",
            "step = 1990\tloss = 0.5070251226425171\ttrain_accuracy = 0.8291875123977661\ttest_accuracy = 0.7135000228881836\n",
            "step = 2000\tloss = 0.5001065135002136\ttrain_accuracy = 0.835687518119812\ttest_accuracy = 0.6909999847412109\n",
            "step = 2010\tloss = 0.5400124192237854\ttrain_accuracy = 0.8053125143051147\ttest_accuracy = 0.6399999856948853\n",
            "step = 2020\tloss = 0.5262721180915833\ttrain_accuracy = 0.8283125162124634\ttest_accuracy = 0.718999981880188\n",
            "step = 2030\tloss = 0.5016099214553833\ttrain_accuracy = 0.8338124752044678\ttest_accuracy = 0.6869999766349792\n",
            "step = 2040\tloss = 0.5148261189460754\ttrain_accuracy = 0.8295624852180481\ttest_accuracy = 0.7020000219345093\n",
            "step = 2050\tloss = 0.5040295124053955\ttrain_accuracy = 0.824874997138977\ttest_accuracy = 0.7170000076293945\n",
            "step = 2060\tloss = 0.4866100251674652\ttrain_accuracy = 0.8369374871253967\ttest_accuracy = 0.7204999923706055\n",
            "step = 2070\tloss = 0.47059863805770874\ttrain_accuracy = 0.8456875085830688\ttest_accuracy = 0.7105000019073486\n",
            "step = 2080\tloss = 0.4809249937534332\ttrain_accuracy = 0.8423125147819519\ttest_accuracy = 0.7179999947547913\n",
            "step = 2090\tloss = 0.5130883455276489\ttrain_accuracy = 0.8142499923706055\ttest_accuracy = 0.6520000100135803\n",
            "step = 2100\tloss = 0.5180283188819885\ttrain_accuracy = 0.8336874842643738\ttest_accuracy = 0.6899999976158142\n",
            "step = 2110\tloss = 0.4922986924648285\ttrain_accuracy = 0.8359375\ttest_accuracy = 0.7074999809265137\n",
            "step = 2120\tloss = 0.47441309690475464\ttrain_accuracy = 0.8444374799728394\ttest_accuracy = 0.7089999914169312\n",
            "step = 2130\tloss = 0.49485915899276733\ttrain_accuracy = 0.8309999704360962\ttest_accuracy = 0.7124999761581421\n",
            "step = 2140\tloss = 0.5225488543510437\ttrain_accuracy = 0.8191875219345093\ttest_accuracy = 0.6970000267028809\n",
            "step = 2150\tloss = 0.46066004037857056\ttrain_accuracy = 0.8495625257492065\ttest_accuracy = 0.7114999890327454\n",
            "step = 2160\tloss = 0.48576802015304565\ttrain_accuracy = 0.8415625095367432\ttest_accuracy = 0.7089999914169312\n",
            "step = 2170\tloss = 1.549546241760254\ttrain_accuracy = 0.5990625023841858\ttest_accuracy = 0.5024999976158142\n",
            "step = 2180\tloss = 1.9093294143676758\ttrain_accuracy = 0.4907500147819519\ttest_accuracy = 0.4194999933242798\n",
            "step = 2190\tloss = 1.1845263242721558\ttrain_accuracy = 0.5968124866485596\ttest_accuracy = 0.6075000166893005\n",
            "step = 2200\tloss = 1.0712416172027588\ttrain_accuracy = 0.6740624904632568\ttest_accuracy = 0.6119999885559082\n",
            "step = 2210\tloss = 0.8556577563285828\ttrain_accuracy = 0.7425000071525574\ttest_accuracy = 0.6439999938011169\n",
            "step = 2220\tloss = 0.7140167355537415\ttrain_accuracy = 0.7913749814033508\ttest_accuracy = 0.6809999942779541\n",
            "step = 2230\tloss = 0.6305262446403503\ttrain_accuracy = 0.8058750033378601\ttest_accuracy = 0.690500020980835\n",
            "step = 2240\tloss = 0.5792078375816345\ttrain_accuracy = 0.8159999847412109\ttest_accuracy = 0.7055000066757202\n",
            "step = 2250\tloss = 0.5378632545471191\ttrain_accuracy = 0.824999988079071\ttest_accuracy = 0.7095000147819519\n",
            "step = 2260\tloss = 0.5188995003700256\ttrain_accuracy = 0.8252500295639038\ttest_accuracy = 0.7085000276565552\n",
            "step = 2270\tloss = 0.5036248564720154\ttrain_accuracy = 0.8370000123977661\ttest_accuracy = 0.7139999866485596\n",
            "step = 2280\tloss = 0.493015855550766\ttrain_accuracy = 0.8382499814033508\ttest_accuracy = 0.7174999713897705\n",
            "step = 2290\tloss = 0.48290181159973145\ttrain_accuracy = 0.8443750143051147\ttest_accuracy = 0.722000002861023\n",
            "step = 2300\tloss = 0.4909329116344452\ttrain_accuracy = 0.8396875262260437\ttest_accuracy = 0.7229999899864197\n",
            "step = 2310\tloss = 0.4895985722541809\ttrain_accuracy = 0.8366249799728394\ttest_accuracy = 0.7250000238418579\n",
            "step = 2320\tloss = 0.48270919919013977\ttrain_accuracy = 0.8323125243186951\ttest_accuracy = 0.722000002861023\n",
            "step = 2330\tloss = 0.4588037431240082\ttrain_accuracy = 0.8472499847412109\ttest_accuracy = 0.7195000052452087\n",
            "step = 2340\tloss = 0.46512991189956665\ttrain_accuracy = 0.843500018119812\ttest_accuracy = 0.7294999957084656\n",
            "step = 2350\tloss = 0.4637695252895355\ttrain_accuracy = 0.8460624814033508\ttest_accuracy = 0.7239999771118164\n",
            "step = 2360\tloss = 0.44537121057510376\ttrain_accuracy = 0.8538125157356262\ttest_accuracy = 0.7250000238418579\n",
            "step = 2370\tloss = 0.463623046875\ttrain_accuracy = 0.8388749957084656\ttest_accuracy = 0.7279999852180481\n",
            "step = 2380\tloss = 0.437417596578598\ttrain_accuracy = 0.8541874885559082\ttest_accuracy = 0.722000002861023\n",
            "step = 2390\tloss = 0.4421265423297882\ttrain_accuracy = 0.854562520980835\ttest_accuracy = 0.7250000238418579\n",
            "step = 2400\tloss = 0.45386913418769836\ttrain_accuracy = 0.8450624942779541\ttest_accuracy = 0.7304999828338623\n",
            "step = 2410\tloss = 0.4416276812553406\ttrain_accuracy = 0.8508750200271606\ttest_accuracy = 0.7365000247955322\n",
            "step = 2420\tloss = 0.4343920946121216\ttrain_accuracy = 0.856124997138977\ttest_accuracy = 0.7329999804496765\n",
            "step = 2430\tloss = 0.43908172845840454\ttrain_accuracy = 0.8589375019073486\ttest_accuracy = 0.7279999852180481\n",
            "step = 2440\tloss = 0.4230455160140991\ttrain_accuracy = 0.8580625057220459\ttest_accuracy = 0.7245000004768372\n",
            "step = 2450\tloss = 0.41980528831481934\ttrain_accuracy = 0.8616874814033508\ttest_accuracy = 0.7329999804496765\n",
            "step = 2460\tloss = 0.41619083285331726\ttrain_accuracy = 0.8601250052452087\ttest_accuracy = 0.7335000038146973\n",
            "step = 2470\tloss = 0.44649744033813477\ttrain_accuracy = 0.8427500128746033\ttest_accuracy = 0.7210000157356262\n",
            "step = 2480\tloss = 0.4198099374771118\ttrain_accuracy = 0.8601874709129333\ttest_accuracy = 0.7350000143051147\n",
            "step = 2490\tloss = 0.4086826741695404\ttrain_accuracy = 0.8679999709129333\ttest_accuracy = 0.734000027179718\n",
            "step = 2500\tloss = 0.4148930609226227\ttrain_accuracy = 0.8677499890327454\ttest_accuracy = 0.722000002861023\n",
            "step = 2510\tloss = 0.6160628795623779\ttrain_accuracy = 0.7726250290870667\ttest_accuracy = 0.621999979019165\n",
            "step = 2520\tloss = 6.391016483306885\ttrain_accuracy = 0.4101875126361847\ttest_accuracy = 0.1655000001192093\n",
            "step = 2530\tloss = 2.341214656829834\ttrain_accuracy = 0.3929375112056732\ttest_accuracy = 0.4390000104904175\n",
            "step = 2540\tloss = 1.6259870529174805\ttrain_accuracy = 0.36774998903274536\ttest_accuracy = 0.3499999940395355\n",
            "step = 2550\tloss = 1.5736520290374756\ttrain_accuracy = 0.3921875059604645\ttest_accuracy = 0.3785000145435333\n",
            "step = 2560\tloss = 1.5256147384643555\ttrain_accuracy = 0.3947499990463257\ttest_accuracy = 0.3824999928474426\n",
            "step = 2570\tloss = 1.4992526769638062\ttrain_accuracy = 0.4260624945163727\ttest_accuracy = 0.398499995470047\n",
            "step = 2580\tloss = 1.4811272621154785\ttrain_accuracy = 0.43193748593330383\ttest_accuracy = 0.40450000762939453\n",
            "step = 2590\tloss = 1.4678303003311157\ttrain_accuracy = 0.4410000145435333\ttest_accuracy = 0.4259999990463257\n",
            "step = 2600\tloss = 1.4534692764282227\ttrain_accuracy = 0.44737499952316284\ttest_accuracy = 0.43050000071525574\n",
            "step = 2610\tloss = 1.433127760887146\ttrain_accuracy = 0.46287500858306885\ttest_accuracy = 0.42750000953674316\n",
            "step = 2620\tloss = 1.4198826551437378\ttrain_accuracy = 0.4725624918937683\ttest_accuracy = 0.47600001096725464\n",
            "step = 2630\tloss = 1.393738031387329\ttrain_accuracy = 0.4814375042915344\ttest_accuracy = 0.47699999809265137\n",
            "step = 2640\tloss = 1.3625991344451904\ttrain_accuracy = 0.4907500147819519\ttest_accuracy = 0.484499990940094\n",
            "step = 2650\tloss = 1.3168412446975708\ttrain_accuracy = 0.5180624723434448\ttest_accuracy = 0.5084999799728394\n",
            "step = 2660\tloss = 1.2655807733535767\ttrain_accuracy = 0.546875\ttest_accuracy = 0.5254999995231628\n",
            "step = 2670\tloss = 1.217003345489502\ttrain_accuracy = 0.5776249766349792\ttest_accuracy = 0.5400000214576721\n",
            "step = 2680\tloss = 1.1840729713439941\ttrain_accuracy = 0.586312472820282\ttest_accuracy = 0.5419999957084656\n",
            "step = 2690\tloss = 1.146625280380249\ttrain_accuracy = 0.6037499904632568\ttest_accuracy = 0.5454999804496765\n",
            "step = 2700\tloss = 1.1840946674346924\ttrain_accuracy = 0.5611875057220459\ttest_accuracy = 0.5084999799728394\n",
            "step = 2710\tloss = 1.1154314279556274\ttrain_accuracy = 0.6120625138282776\ttest_accuracy = 0.5559999942779541\n",
            "step = 2720\tloss = 1.0808876752853394\ttrain_accuracy = 0.6305000185966492\ttest_accuracy = 0.5580000281333923\n",
            "step = 2730\tloss = 1.0544021129608154\ttrain_accuracy = 0.6376875042915344\ttest_accuracy = 0.5699999928474426\n",
            "step = 2740\tloss = 1.034837007522583\ttrain_accuracy = 0.6438124775886536\ttest_accuracy = 0.5605000257492065\n",
            "step = 2750\tloss = 1.0443120002746582\ttrain_accuracy = 0.6356874704360962\ttest_accuracy = 0.5770000219345093\n",
            "step = 2760\tloss = 1.0059579610824585\ttrain_accuracy = 0.6475625038146973\ttest_accuracy = 0.5864999890327454\n",
            "step = 2770\tloss = 0.9769529104232788\ttrain_accuracy = 0.6611875295639038\ttest_accuracy = 0.5950000286102295\n",
            "step = 2780\tloss = 0.9536139369010925\ttrain_accuracy = 0.6743749976158142\ttest_accuracy = 0.6060000061988831\n",
            "step = 2790\tloss = 0.9445369839668274\ttrain_accuracy = 0.6796249747276306\ttest_accuracy = 0.6240000128746033\n",
            "step = 2800\tloss = 0.9263812303543091\ttrain_accuracy = 0.6853749752044678\ttest_accuracy = 0.6234999895095825\n",
            "step = 2810\tloss = 0.9006025195121765\ttrain_accuracy = 0.6908749938011169\ttest_accuracy = 0.6215000152587891\n",
            "step = 2820\tloss = 0.8960894346237183\ttrain_accuracy = 0.6995624899864197\ttest_accuracy = 0.6345000267028809\n",
            "step = 2830\tloss = 0.88787841796875\ttrain_accuracy = 0.6979374885559082\ttest_accuracy = 0.6315000057220459\n",
            "step = 2840\tloss = 0.8662269115447998\ttrain_accuracy = 0.7072499990463257\ttest_accuracy = 0.6449999809265137\n",
            "step = 2850\tloss = 0.8474213480949402\ttrain_accuracy = 0.7146250009536743\ttest_accuracy = 0.6115000247955322\n",
            "step = 2860\tloss = 0.8869689702987671\ttrain_accuracy = 0.682937502861023\ttest_accuracy = 0.6545000076293945\n",
            "step = 2870\tloss = 0.8331771492958069\ttrain_accuracy = 0.7195000052452087\ttest_accuracy = 0.6439999938011169\n",
            "step = 2880\tloss = 0.8267346620559692\ttrain_accuracy = 0.7143750190734863\ttest_accuracy = 0.6660000085830688\n",
            "step = 2890\tloss = 0.7964814305305481\ttrain_accuracy = 0.7411249876022339\ttest_accuracy = 0.671500027179718\n",
            "step = 2900\tloss = 0.7807123064994812\ttrain_accuracy = 0.7365624904632568\ttest_accuracy = 0.6644999980926514\n",
            "step = 2910\tloss = 0.7974920272827148\ttrain_accuracy = 0.7244374752044678\ttest_accuracy = 0.656499981880188\n",
            "step = 2920\tloss = 0.7664438486099243\ttrain_accuracy = 0.7421249747276306\ttest_accuracy = 0.6460000276565552\n",
            "step = 2930\tloss = 0.7569143176078796\ttrain_accuracy = 0.7451249957084656\ttest_accuracy = 0.6664999723434448\n",
            "step = 2940\tloss = 0.7840770483016968\ttrain_accuracy = 0.7293750047683716\ttest_accuracy = 0.6395000219345093\n",
            "step = 2950\tloss = 0.7424510717391968\ttrain_accuracy = 0.757437527179718\ttest_accuracy = 0.625\n",
            "step = 2960\tloss = 0.7084336876869202\ttrain_accuracy = 0.7670000195503235\ttest_accuracy = 0.659500002861023\n",
            "step = 2970\tloss = 0.7079814672470093\ttrain_accuracy = 0.7728750109672546\ttest_accuracy = 0.6725000143051147\n",
            "step = 2980\tloss = 0.7095864415168762\ttrain_accuracy = 0.7535625100135803\ttest_accuracy = 0.6729999780654907\n",
            "step = 2990\tloss = 0.7044782042503357\ttrain_accuracy = 0.7591875195503235\ttest_accuracy = 0.684499979019165\n",
            "step = 3000\tloss = 0.685555636882782\ttrain_accuracy = 0.7771875262260437\ttest_accuracy = 0.6650000214576721\n",
            "step = 3010\tloss = 0.6959198117256165\ttrain_accuracy = 0.7603750228881836\ttest_accuracy = 0.6754999756813049\n",
            "step = 3020\tloss = 0.6917675137519836\ttrain_accuracy = 0.7584999799728394\ttest_accuracy = 0.6664999723434448\n",
            "step = 3030\tloss = 0.6611083149909973\ttrain_accuracy = 0.7886250019073486\ttest_accuracy = 0.6995000243186951\n",
            "step = 3040\tloss = 0.6430900692939758\ttrain_accuracy = 0.7866874933242798\ttest_accuracy = 0.6990000009536743\n",
            "step = 3050\tloss = 0.6484096646308899\ttrain_accuracy = 0.7846249938011169\ttest_accuracy = 0.7020000219345093\n",
            "step = 3060\tloss = 0.6282637715339661\ttrain_accuracy = 0.7942500114440918\ttest_accuracy = 0.6995000243186951\n",
            "step = 3070\tloss = 0.6602606773376465\ttrain_accuracy = 0.7748749852180481\ttest_accuracy = 0.671999990940094\n",
            "step = 3080\tloss = 0.6552369594573975\ttrain_accuracy = 0.7681875228881836\ttest_accuracy = 0.6510000228881836\n",
            "step = 3090\tloss = 0.8128576874732971\ttrain_accuracy = 0.6989374756813049\ttest_accuracy = 0.6449999809265137\n",
            "step = 3100\tloss = 0.6487087607383728\ttrain_accuracy = 0.7894999980926514\ttest_accuracy = 0.6980000138282776\n",
            "step = 3110\tloss = 0.6622142195701599\ttrain_accuracy = 0.7723749876022339\ttest_accuracy = 0.703000009059906\n",
            "step = 3120\tloss = 0.6470816731452942\ttrain_accuracy = 0.7901874780654907\ttest_accuracy = 0.6899999976158142\n",
            "step = 3130\tloss = 0.6894200444221497\ttrain_accuracy = 0.7483749985694885\ttest_accuracy = 0.699999988079071\n",
            "step = 3140\tloss = 0.6156155467033386\ttrain_accuracy = 0.7998124957084656\ttest_accuracy = 0.7129999995231628\n",
            "step = 3150\tloss = 0.6245798468589783\ttrain_accuracy = 0.7924374938011169\ttest_accuracy = 0.7055000066757202\n",
            "step = 3160\tloss = 0.6011555194854736\ttrain_accuracy = 0.796750009059906\ttest_accuracy = 0.6984999775886536\n",
            "step = 3170\tloss = 0.6079075336456299\ttrain_accuracy = 0.7973750233650208\ttest_accuracy = 0.7070000171661377\n",
            "step = 3180\tloss = 0.6132168769836426\ttrain_accuracy = 0.7871249914169312\ttest_accuracy = 0.6899999976158142\n",
            "step = 3190\tloss = 0.5820916891098022\ttrain_accuracy = 0.8080000281333923\ttest_accuracy = 0.6880000233650208\n",
            "step = 3200\tloss = 0.5511718988418579\ttrain_accuracy = 0.817312479019165\ttest_accuracy = 0.7145000100135803\n",
            "step = 3210\tloss = 0.5455802083015442\ttrain_accuracy = 0.8155624866485596\ttest_accuracy = 0.7135000228881836\n",
            "step = 3220\tloss = 0.5529747605323792\ttrain_accuracy = 0.8148750066757202\ttest_accuracy = 0.7114999890327454\n",
            "step = 3230\tloss = 0.5579394698143005\ttrain_accuracy = 0.8133124709129333\ttest_accuracy = 0.7160000205039978\n",
            "step = 3240\tloss = 0.6527162790298462\ttrain_accuracy = 0.7622500061988831\ttest_accuracy = 0.7174999713897705\n",
            "step = 3250\tloss = 0.5313513278961182\ttrain_accuracy = 0.8236250281333923\ttest_accuracy = 0.7059999704360962\n",
            "step = 3260\tloss = 0.6097216010093689\ttrain_accuracy = 0.7863125205039978\ttest_accuracy = 0.715499997138977\n",
            "step = 3270\tloss = 0.5340598225593567\ttrain_accuracy = 0.8281875252723694\ttest_accuracy = 0.7149999737739563\n",
            "step = 3280\tloss = 0.526652991771698\ttrain_accuracy = 0.8289999961853027\ttest_accuracy = 0.7105000019073486\n",
            "step = 3290\tloss = 0.5199234485626221\ttrain_accuracy = 0.8256250023841858\ttest_accuracy = 0.7114999890327454\n",
            "step = 3300\tloss = 0.5197649002075195\ttrain_accuracy = 0.8210625052452087\ttest_accuracy = 0.7250000238418579\n",
            "step = 3310\tloss = 0.5005093812942505\ttrain_accuracy = 0.8303750157356262\ttest_accuracy = 0.7235000133514404\n",
            "step = 3320\tloss = 0.498897522687912\ttrain_accuracy = 0.8321250081062317\ttest_accuracy = 0.7264999747276306\n",
            "step = 3330\tloss = 0.515656590461731\ttrain_accuracy = 0.8209999799728394\ttest_accuracy = 0.7174999713897705\n",
            "step = 3340\tloss = 0.5656421184539795\ttrain_accuracy = 0.8106874823570251\ttest_accuracy = 0.7279999852180481\n",
            "step = 3350\tloss = 0.5250331163406372\ttrain_accuracy = 0.8226875066757202\ttest_accuracy = 0.7245000004768372\n",
            "step = 3360\tloss = 0.502284824848175\ttrain_accuracy = 0.8366875052452087\ttest_accuracy = 0.7289999723434448\n",
            "step = 3370\tloss = 0.5017619729042053\ttrain_accuracy = 0.8364999890327454\ttest_accuracy = 0.7059999704360962\n",
            "step = 3380\tloss = 0.4984879493713379\ttrain_accuracy = 0.8360000252723694\ttest_accuracy = 0.7039999961853027\n",
            "step = 3390\tloss = 0.5080048441886902\ttrain_accuracy = 0.8232499957084656\ttest_accuracy = 0.7080000042915344\n",
            "step = 3400\tloss = 0.4805261790752411\ttrain_accuracy = 0.8405625224113464\ttest_accuracy = 0.7329999804496765\n",
            "step = 3410\tloss = 0.5099599957466125\ttrain_accuracy = 0.8261250257492065\ttest_accuracy = 0.7279999852180481\n",
            "step = 3420\tloss = 0.4808536469936371\ttrain_accuracy = 0.8411250114440918\ttest_accuracy = 0.7245000004768372\n",
            "step = 3430\tloss = 0.4856439232826233\ttrain_accuracy = 0.8436874747276306\ttest_accuracy = 0.7099999785423279\n",
            "step = 3440\tloss = 0.5059733986854553\ttrain_accuracy = 0.8256875276565552\ttest_accuracy = 0.7149999737739563\n",
            "step = 3450\tloss = 0.46619683504104614\ttrain_accuracy = 0.846875011920929\ttest_accuracy = 0.7350000143051147\n",
            "step = 3460\tloss = 0.4594164788722992\ttrain_accuracy = 0.8503124713897705\ttest_accuracy = 0.734000027179718\n",
            "step = 3470\tloss = 0.48486313223838806\ttrain_accuracy = 0.8427500128746033\ttest_accuracy = 0.7099999785423279\n",
            "step = 3480\tloss = 0.46342602372169495\ttrain_accuracy = 0.8478749990463257\ttest_accuracy = 0.715499997138977\n",
            "step = 3490\tloss = 0.4964468479156494\ttrain_accuracy = 0.8274999856948853\ttest_accuracy = 0.7020000219345093\n",
            "step = 3500\tloss = 0.4619307219982147\ttrain_accuracy = 0.8532500267028809\ttest_accuracy = 0.7325000166893005\n",
            "step = 3510\tloss = 0.45274263620376587\ttrain_accuracy = 0.851437509059906\ttest_accuracy = 0.7360000014305115\n",
            "step = 3520\tloss = 0.45896443724632263\ttrain_accuracy = 0.8444374799728394\ttest_accuracy = 0.718999981880188\n",
            "step = 3530\tloss = 0.47202327847480774\ttrain_accuracy = 0.8445000052452087\ttest_accuracy = 0.7285000085830688\n",
            "step = 3540\tloss = 0.5124024152755737\ttrain_accuracy = 0.8168749809265137\ttest_accuracy = 0.7369999885559082\n",
            "step = 3550\tloss = 0.4473792612552643\ttrain_accuracy = 0.8525624871253967\ttest_accuracy = 0.6959999799728394\n",
            "step = 3560\tloss = 0.4877827763557434\ttrain_accuracy = 0.8321874737739563\ttest_accuracy = 0.718999981880188\n",
            "step = 3570\tloss = 0.44617462158203125\ttrain_accuracy = 0.851312518119812\ttest_accuracy = 0.7394999861717224\n",
            "step = 3580\tloss = 0.472199946641922\ttrain_accuracy = 0.8354374766349792\ttest_accuracy = 0.6984999775886536\n",
            "step = 3590\tloss = 0.5081843733787537\ttrain_accuracy = 0.8211249709129333\ttest_accuracy = 0.6915000081062317\n",
            "step = 3600\tloss = 0.4514618217945099\ttrain_accuracy = 0.8471249938011169\ttest_accuracy = 0.737500011920929\n",
            "step = 3610\tloss = 0.44259971380233765\ttrain_accuracy = 0.848437488079071\ttest_accuracy = 0.7369999885559082\n",
            "step = 3620\tloss = 0.5106607675552368\ttrain_accuracy = 0.817312479019165\ttest_accuracy = 0.737500011920929\n",
            "step = 3630\tloss = 0.42978009581565857\ttrain_accuracy = 0.8589375019073486\ttest_accuracy = 0.734000027179718\n",
            "step = 3640\tloss = 0.4636058211326599\ttrain_accuracy = 0.8450000286102295\ttest_accuracy = 0.7114999890327454\n",
            "step = 3650\tloss = 0.44909533858299255\ttrain_accuracy = 0.844124972820282\ttest_accuracy = 0.7450000047683716\n",
            "step = 3660\tloss = 0.4292246103286743\ttrain_accuracy = 0.8550000190734863\ttest_accuracy = 0.7245000004768372\n",
            "step = 3670\tloss = 0.42066851258277893\ttrain_accuracy = 0.8620625138282776\ttest_accuracy = 0.7450000047683716\n",
            "step = 3680\tloss = 0.4242541491985321\ttrain_accuracy = 0.8628749847412109\ttest_accuracy = 0.7465000152587891\n",
            "step = 3690\tloss = 0.4170392155647278\ttrain_accuracy = 0.8618749976158142\ttest_accuracy = 0.7490000128746033\n",
            "step = 3700\tloss = 0.41046369075775146\ttrain_accuracy = 0.8661249876022339\ttest_accuracy = 0.7444999814033508\n",
            "step = 3710\tloss = 0.4218860864639282\ttrain_accuracy = 0.8588125109672546\ttest_accuracy = 0.7484999895095825\n",
            "step = 3720\tloss = 0.5902284979820251\ttrain_accuracy = 0.7855625152587891\ttest_accuracy = 0.6414999961853027\n",
            "step = 3730\tloss = 0.4974480867385864\ttrain_accuracy = 0.8294374942779541\ttest_accuracy = 0.6930000185966492\n",
            "step = 3740\tloss = 0.4823623597621918\ttrain_accuracy = 0.8383749723434448\ttest_accuracy = 0.7120000123977661\n",
            "step = 3750\tloss = 0.4415402114391327\ttrain_accuracy = 0.8623124957084656\ttest_accuracy = 0.7390000224113464\n",
            "step = 3760\tloss = 0.4158431589603424\ttrain_accuracy = 0.8631874918937683\ttest_accuracy = 0.7425000071525574\n",
            "step = 3770\tloss = 0.4182135760784149\ttrain_accuracy = 0.8612499833106995\ttest_accuracy = 0.746999979019165\n",
            "step = 3780\tloss = 0.428219199180603\ttrain_accuracy = 0.8589375019073486\ttest_accuracy = 0.7509999871253967\n",
            "step = 3790\tloss = 0.4160001277923584\ttrain_accuracy = 0.8605625033378601\ttest_accuracy = 0.7055000066757202\n",
            "step = 3800\tloss = 0.41971254348754883\ttrain_accuracy = 0.8554375171661377\ttest_accuracy = 0.7480000257492065\n",
            "step = 3810\tloss = 0.39986833930015564\ttrain_accuracy = 0.8730624914169312\ttest_accuracy = 0.7415000200271606\n",
            "step = 3820\tloss = 0.4383936822414398\ttrain_accuracy = 0.8566250205039978\ttest_accuracy = 0.722000002861023\n",
            "step = 3830\tloss = 0.39785149693489075\ttrain_accuracy = 0.8693125247955322\ttest_accuracy = 0.7444999814033508\n",
            "step = 3840\tloss = 0.4109003245830536\ttrain_accuracy = 0.8588749766349792\ttest_accuracy = 0.7400000095367432\n",
            "step = 3850\tloss = 0.42219629883766174\ttrain_accuracy = 0.8640000224113464\ttest_accuracy = 0.671999990940094\n",
            "step = 3860\tloss = 0.45199188590049744\ttrain_accuracy = 0.8379999995231628\ttest_accuracy = 0.7350000143051147\n",
            "step = 3870\tloss = 0.43481072783470154\ttrain_accuracy = 0.8479999899864197\ttest_accuracy = 0.7390000224113464\n",
            "step = 3880\tloss = 0.4069741368293762\ttrain_accuracy = 0.8653749823570251\ttest_accuracy = 0.699999988079071\n",
            "step = 3890\tloss = 0.47860950231552124\ttrain_accuracy = 0.8285624980926514\ttest_accuracy = 0.7160000205039978\n",
            "step = 3900\tloss = 0.40950220823287964\ttrain_accuracy = 0.8661249876022339\ttest_accuracy = 0.7335000038146973\n",
            "step = 3910\tloss = 0.3997648060321808\ttrain_accuracy = 0.8668749928474426\ttest_accuracy = 0.7540000081062317\n",
            "step = 3920\tloss = 0.456729918718338\ttrain_accuracy = 0.8386250138282776\ttest_accuracy = 0.7279999852180481\n",
            "step = 3930\tloss = 0.3967503607273102\ttrain_accuracy = 0.8679999709129333\ttest_accuracy = 0.7415000200271606\n",
            "step = 3940\tloss = 0.44178611040115356\ttrain_accuracy = 0.8411874771118164\ttest_accuracy = 0.7394999861717224\n",
            "step = 3950\tloss = 0.38574105501174927\ttrain_accuracy = 0.8748124837875366\ttest_accuracy = 0.7519999742507935\n",
            "step = 3960\tloss = 0.3769490420818329\ttrain_accuracy = 0.875\ttest_accuracy = 0.7450000047683716\n",
            "step = 3970\tloss = 0.3952576220035553\ttrain_accuracy = 0.867437481880188\ttest_accuracy = 0.7300000190734863\n",
            "step = 3980\tloss = 0.43488001823425293\ttrain_accuracy = 0.8525000214576721\ttest_accuracy = 0.75\n",
            "step = 3990\tloss = 0.4023192822933197\ttrain_accuracy = 0.8613749742507935\ttest_accuracy = 0.7444999814033508\n",
            "step = 4000\tloss = 0.3776346445083618\ttrain_accuracy = 0.8743125200271606\ttest_accuracy = 0.7534999847412109\n",
            "step = 4010\tloss = 0.47459113597869873\ttrain_accuracy = 0.8233749866485596\ttest_accuracy = 0.7419999837875366\n",
            "step = 4020\tloss = 0.38494622707366943\ttrain_accuracy = 0.8744375109672546\ttest_accuracy = 0.75\n",
            "step = 4030\tloss = 0.40204712748527527\ttrain_accuracy = 0.8575000166893005\ttest_accuracy = 0.75\n",
            "step = 4040\tloss = 0.5581821799278259\ttrain_accuracy = 0.7981874942779541\ttest_accuracy = 0.7450000047683716\n",
            "step = 4050\tloss = 0.4043109118938446\ttrain_accuracy = 0.8619375228881836\ttest_accuracy = 0.7455000281333923\n",
            "step = 4060\tloss = 0.3759586215019226\ttrain_accuracy = 0.8811874985694885\ttest_accuracy = 0.7475000023841858\n",
            "step = 4070\tloss = 0.37596774101257324\ttrain_accuracy = 0.8754374980926514\ttest_accuracy = 0.7549999952316284\n",
            "step = 4080\tloss = 0.40247100591659546\ttrain_accuracy = 0.8561875224113464\ttest_accuracy = 0.75\n",
            "step = 4090\tloss = 0.37018024921417236\ttrain_accuracy = 0.8737499713897705\ttest_accuracy = 0.7574999928474426\n",
            "step = 4100\tloss = 0.3762195408344269\ttrain_accuracy = 0.8696249723434448\ttest_accuracy = 0.7425000071525574\n",
            "step = 4110\tloss = 0.41588470339775085\ttrain_accuracy = 0.8557500243186951\ttest_accuracy = 0.7225000262260437\n",
            "step = 4120\tloss = 0.44589054584503174\ttrain_accuracy = 0.8464999794960022\ttest_accuracy = 0.7459999918937683\n",
            "step = 4130\tloss = 0.3600817322731018\ttrain_accuracy = 0.8850625157356262\ttest_accuracy = 0.7459999918937683\n",
            "step = 4140\tloss = 0.37277916073799133\ttrain_accuracy = 0.8734375238418579\ttest_accuracy = 0.746999979019165\n",
            "step = 4150\tloss = 0.3833213448524475\ttrain_accuracy = 0.871874988079071\ttest_accuracy = 0.7415000200271606\n",
            "step = 4160\tloss = 0.3582601249217987\ttrain_accuracy = 0.8834999799728394\ttest_accuracy = 0.75\n",
            "step = 4170\tloss = 0.3768478035926819\ttrain_accuracy = 0.8696249723434448\ttest_accuracy = 0.7269999980926514\n",
            "step = 4180\tloss = 0.4566185772418976\ttrain_accuracy = 0.8448749780654907\ttest_accuracy = 0.7260000109672546\n",
            "step = 4190\tloss = 0.43341368436813354\ttrain_accuracy = 0.8538749814033508\ttest_accuracy = 0.7285000085830688\n",
            "step = 4200\tloss = 0.37093931436538696\ttrain_accuracy = 0.882437527179718\ttest_accuracy = 0.7505000233650208\n",
            "step = 4210\tloss = 0.37246406078338623\ttrain_accuracy = 0.8754374980926514\ttest_accuracy = 0.7570000290870667\n",
            "step = 4220\tloss = 0.38412946462631226\ttrain_accuracy = 0.8645625114440918\ttest_accuracy = 0.7544999718666077\n",
            "step = 4230\tloss = 0.4008139669895172\ttrain_accuracy = 0.8571875095367432\ttest_accuracy = 0.7400000095367432\n",
            "step = 4240\tloss = 0.3801726698875427\ttrain_accuracy = 0.8668749928474426\ttest_accuracy = 0.7555000185966492\n",
            "step = 4250\tloss = 0.37667855620384216\ttrain_accuracy = 0.8693125247955322\ttest_accuracy = 0.7555000185966492\n",
            "step = 4260\tloss = 0.35213369131088257\ttrain_accuracy = 0.8886250257492065\ttest_accuracy = 0.7490000128746033\n",
            "step = 4270\tloss = 0.345664918422699\ttrain_accuracy = 0.887499988079071\ttest_accuracy = 0.7484999895095825\n",
            "step = 4280\tloss = 0.35905975103378296\ttrain_accuracy = 0.8794999718666077\ttest_accuracy = 0.7565000057220459\n",
            "step = 4290\tloss = 0.361318975687027\ttrain_accuracy = 0.8784375190734863\ttest_accuracy = 0.7549999952316284\n",
            "step = 4300\tloss = 0.3444668650627136\ttrain_accuracy = 0.8818749785423279\ttest_accuracy = 0.75\n",
            "step = 4310\tloss = 0.44951850175857544\ttrain_accuracy = 0.8382499814033508\ttest_accuracy = 0.6729999780654907\n",
            "step = 4320\tloss = 0.41434213519096375\ttrain_accuracy = 0.8539375066757202\ttest_accuracy = 0.7369999885559082\n",
            "step = 4330\tloss = 0.36663785576820374\ttrain_accuracy = 0.8761249780654907\ttest_accuracy = 0.7279999852180481\n",
            "step = 4340\tloss = 0.3880193829536438\ttrain_accuracy = 0.8709375262260437\ttest_accuracy = 0.7304999828338623\n",
            "step = 4350\tloss = 0.3396986126899719\ttrain_accuracy = 0.8911874890327454\ttest_accuracy = 0.7559999823570251\n",
            "step = 4360\tloss = 0.33657145500183105\ttrain_accuracy = 0.8886250257492065\ttest_accuracy = 0.7540000081062317\n",
            "step = 4370\tloss = 0.3358445465564728\ttrain_accuracy = 0.8878750205039978\ttest_accuracy = 0.753000020980835\n",
            "step = 4380\tloss = 0.3325459361076355\ttrain_accuracy = 0.8870000243186951\ttest_accuracy = 0.7595000267028809\n",
            "step = 4390\tloss = 0.35699254274368286\ttrain_accuracy = 0.8824999928474426\ttest_accuracy = 0.7519999742507935\n",
            "step = 4400\tloss = 0.35242345929145813\ttrain_accuracy = 0.8843125104904175\ttest_accuracy = 0.7559999823570251\n",
            "step = 4410\tloss = 0.34333720803260803\ttrain_accuracy = 0.8863124847412109\ttest_accuracy = 0.7570000290870667\n",
            "step = 4420\tloss = 0.3517857491970062\ttrain_accuracy = 0.8813124895095825\ttest_accuracy = 0.7404999732971191\n",
            "step = 4430\tloss = 0.3404581844806671\ttrain_accuracy = 0.882937490940094\ttest_accuracy = 0.7534999847412109\n",
            "step = 4440\tloss = 0.3421711325645447\ttrain_accuracy = 0.8856874704360962\ttest_accuracy = 0.7519999742507935\n",
            "step = 4450\tloss = 0.390628457069397\ttrain_accuracy = 0.866812527179718\ttest_accuracy = 0.746999979019165\n",
            "step = 4460\tloss = 0.45922285318374634\ttrain_accuracy = 0.8240000009536743\ttest_accuracy = 0.6510000228881836\n",
            "step = 4470\tloss = 0.38829493522644043\ttrain_accuracy = 0.8630625009536743\ttest_accuracy = 0.7319999933242798\n",
            "step = 4480\tloss = 0.3462413251399994\ttrain_accuracy = 0.8848124742507935\ttest_accuracy = 0.7605000138282776\n",
            "step = 4490\tloss = 0.33991771936416626\ttrain_accuracy = 0.890500009059906\ttest_accuracy = 0.7515000104904175\n",
            "step = 4500\tloss = 0.3305194675922394\ttrain_accuracy = 0.8901875019073486\ttest_accuracy = 0.7595000267028809\n",
            "step = 4510\tloss = 0.3317088484764099\ttrain_accuracy = 0.8855000138282776\ttest_accuracy = 0.7590000033378601\n",
            "step = 4520\tloss = 0.38639914989471436\ttrain_accuracy = 0.8628125190734863\ttest_accuracy = 0.7565000057220459\n",
            "step = 4530\tloss = 0.31903567910194397\ttrain_accuracy = 0.8966875076293945\ttest_accuracy = 0.7444999814033508\n",
            "step = 4540\tloss = 0.3239254653453827\ttrain_accuracy = 0.8964999914169312\ttest_accuracy = 0.7595000267028809\n",
            "step = 4550\tloss = 0.35959962010383606\ttrain_accuracy = 0.8736249804496765\ttest_accuracy = 0.7584999799728394\n",
            "step = 4560\tloss = 0.3367663323879242\ttrain_accuracy = 0.8883749842643738\ttest_accuracy = 0.7605000138282776\n",
            "step = 4570\tloss = 0.3205811083316803\ttrain_accuracy = 0.8920000195503235\ttest_accuracy = 0.7505000233650208\n",
            "step = 4580\tloss = 0.3806591331958771\ttrain_accuracy = 0.8706250190734863\ttest_accuracy = 0.7475000023841858\n",
            "step = 4590\tloss = 0.3151931166648865\ttrain_accuracy = 0.898312509059906\ttest_accuracy = 0.7440000176429749\n",
            "step = 4600\tloss = 0.3222249746322632\ttrain_accuracy = 0.890250027179718\ttest_accuracy = 0.7590000033378601\n",
            "step = 4610\tloss = 0.993239164352417\ttrain_accuracy = 0.6828749775886536\ttest_accuracy = 0.6154999732971191\n",
            "step = 4620\tloss = 1.0022728443145752\ttrain_accuracy = 0.6629375219345093\ttest_accuracy = 0.6614999771118164\n",
            "step = 4630\tloss = 0.6257866024971008\ttrain_accuracy = 0.7925624847412109\ttest_accuracy = 0.6679999828338623\n",
            "step = 4640\tloss = 0.5121037364006042\ttrain_accuracy = 0.8410624861717224\ttest_accuracy = 0.7455000281333923\n",
            "step = 4650\tloss = 0.41540074348449707\ttrain_accuracy = 0.866812527179718\ttest_accuracy = 0.7450000047683716\n",
            "step = 4660\tloss = 0.3846701681613922\ttrain_accuracy = 0.8734375238418579\ttest_accuracy = 0.7540000081062317\n",
            "step = 4670\tloss = 0.3579804003238678\ttrain_accuracy = 0.8865000009536743\ttest_accuracy = 0.7549999952316284\n",
            "step = 4680\tloss = 0.3476836383342743\ttrain_accuracy = 0.8888124823570251\ttest_accuracy = 0.7599999904632568\n",
            "step = 4690\tloss = 0.34094950556755066\ttrain_accuracy = 0.8851249814033508\ttest_accuracy = 0.7609999775886536\n",
            "step = 4700\tloss = 0.3288125693798065\ttrain_accuracy = 0.8896250128746033\ttest_accuracy = 0.7555000185966492\n",
            "step = 4710\tloss = 0.33154138922691345\ttrain_accuracy = 0.8870624899864197\ttest_accuracy = 0.7605000138282776\n",
            "step = 4720\tloss = 0.3205113708972931\ttrain_accuracy = 0.8949375152587891\ttest_accuracy = 0.7595000267028809\n",
            "step = 4730\tloss = 0.3152911365032196\ttrain_accuracy = 0.8956875205039978\ttest_accuracy = 0.7649999856948853\n",
            "step = 4740\tloss = 0.32398805022239685\ttrain_accuracy = 0.8888124823570251\ttest_accuracy = 0.765999972820282\n",
            "step = 4750\tloss = 0.31255480647087097\ttrain_accuracy = 0.8969374895095825\ttest_accuracy = 0.7664999961853027\n",
            "step = 4760\tloss = 0.3159548342227936\ttrain_accuracy = 0.893625020980835\ttest_accuracy = 0.7634999752044678\n",
            "step = 4770\tloss = 0.31418168544769287\ttrain_accuracy = 0.8966875076293945\ttest_accuracy = 0.765999972820282\n",
            "step = 4780\tloss = 0.31717967987060547\ttrain_accuracy = 0.8951249718666077\ttest_accuracy = 0.7630000114440918\n",
            "step = 4790\tloss = 0.3118225634098053\ttrain_accuracy = 0.8961250185966492\ttest_accuracy = 0.7645000219345093\n",
            "step = 4800\tloss = 0.3154204189777374\ttrain_accuracy = 0.8950625061988831\ttest_accuracy = 0.7649999856948853\n",
            "step = 4810\tloss = 0.30623120069503784\ttrain_accuracy = 0.8970624804496765\ttest_accuracy = 0.7674999833106995\n",
            "step = 4820\tloss = 0.31218421459198\ttrain_accuracy = 0.8955000042915344\ttest_accuracy = 0.762499988079071\n",
            "step = 4830\tloss = 0.344774067401886\ttrain_accuracy = 0.8807500004768372\ttest_accuracy = 0.7549999952316284\n",
            "step = 4840\tloss = 0.3208993971347809\ttrain_accuracy = 0.8911874890327454\ttest_accuracy = 0.7670000195503235\n",
            "step = 4850\tloss = 0.3148205280303955\ttrain_accuracy = 0.8956875205039978\ttest_accuracy = 0.7639999985694885\n",
            "step = 4860\tloss = 0.309533029794693\ttrain_accuracy = 0.8982499837875366\ttest_accuracy = 0.7620000243186951\n",
            "step = 4870\tloss = 0.3024246096611023\ttrain_accuracy = 0.8995624780654907\ttest_accuracy = 0.7639999985694885\n",
            "step = 4880\tloss = 0.3053201735019684\ttrain_accuracy = 0.9001250267028809\ttest_accuracy = 0.7639999985694885\n",
            "step = 4890\tloss = 0.29202720522880554\ttrain_accuracy = 0.9033125042915344\ttest_accuracy = 0.7584999799728394\n",
            "step = 4900\tloss = 0.3114149868488312\ttrain_accuracy = 0.8945000171661377\ttest_accuracy = 0.7670000195503235\n",
            "step = 4910\tloss = 0.3192561864852905\ttrain_accuracy = 0.8903124928474426\ttest_accuracy = 0.765999972820282\n",
            "step = 4920\tloss = 0.32740160822868347\ttrain_accuracy = 0.8883125185966492\ttest_accuracy = 0.7475000023841858\n",
            "step = 4930\tloss = 0.29711616039276123\ttrain_accuracy = 0.9003124833106995\ttest_accuracy = 0.753000020980835\n",
            "step = 4940\tloss = 0.3078313171863556\ttrain_accuracy = 0.8939375281333923\ttest_accuracy = 0.7680000066757202\n",
            "step = 4950\tloss = 0.29174864292144775\ttrain_accuracy = 0.9059374928474426\ttest_accuracy = 0.7630000114440918\n",
            "step = 4960\tloss = 0.29581987857818604\ttrain_accuracy = 0.9020624756813049\ttest_accuracy = 0.7670000195503235\n",
            "step = 4970\tloss = 0.3211490511894226\ttrain_accuracy = 0.8877500295639038\ttest_accuracy = 0.765500009059906\n",
            "step = 4980\tloss = 0.3041342794895172\ttrain_accuracy = 0.8928750157356262\ttest_accuracy = 0.7699999809265137\n",
            "step = 4990\tloss = 0.2912287712097168\ttrain_accuracy = 0.9050624966621399\ttest_accuracy = 0.7689999938011169\n"
          ]
        }
      ]
    },
    {
      "cell_type": "code",
      "source": [
        "plt.plot(range(len(train_accs)),train_accs)\n",
        "plt.title(\"Training Accuracies for first 5000 Epochs\")\n",
        "plt.show()"
      ],
      "metadata": {
        "colab": {
          "base_uri": "https://localhost:8080/",
          "height": 281
        },
        "id": "svBUufa7x5AC",
        "outputId": "f43460eb-786b-43ce-a951-c36337eae9af"
      },
      "execution_count": 26,
      "outputs": [
        {
          "output_type": "display_data",
          "data": {
            "text/plain": [
              "<Figure size 432x288 with 1 Axes>"
            ],
            "image/png": "[encoded data removed]"
          },
          "metadata": {
            "needs_background": "light"
          }
        }
      ]
    },
    {
      "cell_type": "code",
      "source": [
        "plt.plot(range(len(test_accs)),test_accs)\n",
        "plt.title(\"Testing Accuracies for first 5000 Epochs\")\n",
        "plt.show()"
      ],
      "metadata": {
        "colab": {
          "base_uri": "https://localhost:8080/",
          "height": 281
        },
        "id": "804LKJxTeL_L",
        "outputId": "e18a311f-629d-4bc9-bda7-e498856ef175"
      },
      "execution_count": 27,
      "outputs": [
        {
          "output_type": "display_data",
          "data": {
            "text/plain": [
              "<Figure size 432x288 with 1 Axes>"
            ],
            "image/png": "[encoded data removed]"
          },
          "metadata": {
            "needs_background": "light"
          }
        }
      ]
    },
    {
      "cell_type": "code",
      "source": [
        "plt.plot(range(len(train_losses)),train_losses)\n",
        "plt.title(\"Training Losses for first 5000 Epochs\")\n",
        "plt.show()"
      ],
      "metadata": {
        "colab": {
          "base_uri": "https://localhost:8080/",
          "height": 281
        },
        "id": "vtHJ1B-kelZi",
        "outputId": "e6f5b0ea-14ac-479f-d62f-e15918a882e9"
      },
      "execution_count": 28,
      "outputs": [
        {
          "output_type": "display_data",
          "data": {
            "text/plain": [
              "<Figure size 432x288 with 1 Axes>"
            ],
            "image/png": "[encoded data removed]"
          },
          "metadata": {
            "needs_background": "light"
          }
        }
      ]
    },
    {
      "cell_type": "code",
      "source": [
        "plt.plot(range(len(test_losses)),test_losses)\n",
        "plt.title(\"Testing Losses for first 5000 Epochs\")\n",
        "plt.show()"
      ],
      "metadata": {
        "colab": {
          "base_uri": "https://localhost:8080/",
          "height": 281
        },
        "id": "M3dcUaDqetRJ",
        "outputId": "a3dfc303-7afc-43bd-db13-b19dcf476460"
      },
      "execution_count": 29,
      "outputs": [
        {
          "output_type": "display_data",
          "data": {
            "text/plain": [
              "<Figure size 432x288 with 1 Axes>"
            ],
            "image/png": "[encoded data removed]"
          },
          "metadata": {
            "needs_background": "light"
          }
        }
      ]
    },
    {
      "cell_type": "code",
      "source": [
        ""
      ],
      "metadata": {
        "id": "VNaHE6rJeyxR"
      },
      "execution_count": null,
      "outputs": []
    }
  ]
}